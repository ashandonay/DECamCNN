{
 "cells": [
  {
   "cell_type": "code",
   "execution_count": 1,
   "metadata": {},
   "outputs": [],
   "source": [
    "from astropy.coordinates import SkyCoord\n",
    "from astropy.coordinates import match_coordinates_sky\n",
    "from astropy import units as u\n",
    "\n",
    "import glob\n",
    "import h5py\n",
    "import itertools\n",
    "import matplotlib.pyplot as plt\n",
    "import numpy as np\n",
    "np.random.seed(6)\n",
    "import pandas as pd\n",
    "from pycm import ConfusionMatrix\n",
    "from sklearn.model_selection import train_test_split\n",
    "from sklearn.metrics import accuracy_score\n",
    "import sys\n",
    "\n",
    "import torch\n",
    "import torch.nn as nn\n",
    "import torch.nn.functional as F\n",
    "import torch.utils.data as Data\n",
    "from torch.utils.data import Dataset, DataLoader\n",
    "from torch.utils.data import TensorDataset\n",
    "import torchvision\n",
    "import torchvision.models as models\n",
    "from torchvision import transforms\n",
    "from scipy import ndimage\n",
    "from scipy.interpolate import LinearNDInterpolator"
   ]
  },
  {
   "cell_type": "code",
   "execution_count": 2,
   "metadata": {},
   "outputs": [],
   "source": [
    "def TrainTest(dataset, md, cut, stop, value):\n",
    "    \n",
    "    hf = h5py.File(dataset, 'r')\n",
    "    dataset_name = list(hf.keys())[0]\n",
    "    images = np.array(hf.get(dataset_name))\n",
    "    hf.close()\n",
    "    X_train, X_test = images[0:cut], images[cut:stop]\n",
    "    md_df = pd.read_csv(md)\n",
    "    if 'OBJID_COPY' in md_df:\n",
    "        md_df['OBJID'] = md_df['OBJID_COPY'].values\n",
    "    md_train, md_test = md_df[0:cut], md_df[cut:stop]\n",
    "    \n",
    "\n",
    "    y_train, y_test = np.array([value] * len(X_train)), np.array([value] * len(X_test))\n",
    "    \n",
    "    return X_train, X_test, y_train, y_test, md_train, md_test"
   ]
  },
  {
   "cell_type": "code",
   "execution_count": 3,
   "metadata": {},
   "outputs": [],
   "source": [
    "def gaussian2D(distance_to_center, sigma):\n",
    "    return 1/(sigma**2*2*np.pi)*np.exp(-0.5*((distance_to_center)/sigma)**2)"
   ]
  },
  {
   "cell_type": "code",
   "execution_count": 4,
   "metadata": {},
   "outputs": [],
   "source": [
    "def TemplateCenter(images, metadata):\n",
    "    template_images = images[:,0,:,:]\n",
    "    psfs = metadata['PSF'].values\n",
    "    psf_in_px = psfs / 0.263\n",
    "    psf_in_px = psfs[:,np.newaxis,np.newaxis] / 0.263 / 2.3548\n",
    "    yy, xx = np.indices(template_images[0].shape)\n",
    "    center_x, center_y = 25, 25\n",
    "    distance_to_center = np.sqrt((yy - center_y)**2 + (xx - center_x)**2)[np.newaxis,:]\n",
    "    distance_to_center = np.vstack(len(template_images)*[distance_to_center])\n",
    "    psf_weights = gaussian2D(distance_to_center, psf_in_px)\n",
    "    backgrounds = np.median(template_images, axis=(-1,-2))[:,np.newaxis,np.newaxis]\n",
    "    center_fluxes = np.sum((template_images - backgrounds) * psf_weights, axis=(-1,-2))\n",
    "    return center_fluxes"
   ]
  },
  {
   "cell_type": "code",
   "execution_count": 5,
   "metadata": {},
   "outputs": [],
   "source": [
    "def SNR(metadata):\n",
    "    metadata['SNR'] = metadata['FLUXCAL'].values/metadata['FLUXCALERR'].values\n",
    "    return metadata['SNR'].values"
   ]
  },
  {
   "cell_type": "code",
   "execution_count": 6,
   "metadata": {},
   "outputs": [],
   "source": [
    "def CatalogMatching(images, labels, metadata):\n",
    "    # read in LightCurvesRealCoords.csv\n",
    "    snid_coords = pd.read_csv('LightCurvesRealCoords.csv')\n",
    "    # assume metadata is stored in \"md_df\"\n",
    "    md_df = metadata.merge(snid_coords, on='SNID', how='inner')\n",
    "    # Load in catalog\n",
    "    catalog_df = pd.read_csv('DES_Star_Catalog_SOF.csv')\n",
    "    # Use astropy\n",
    "    catalog_coords = SkyCoord(ra= catalog_df['STAR_RA'].values*u.degree, dec= catalog_df['STAR_DEC'].values * u.degree)\n",
    "    candidate_coords = SkyCoord(ra= md_df['RA'].values*u.degree, dec= md_df['DEC'].values * u.degree)\n",
    "    idx, d2d, d3d = match_coordinates_sky(candidate_coords, catalog_coords)\n",
    "    #https://docs.astropy.org/en/stable/api/astropy.coordinates.match_coordinates_sky.html#astropy.coordinates.match_coordinates_sky\n",
    "    # filter results\n",
    "    threshold = 1 # in arcsec\n",
    "    arc_sec_mask = (d2d > threshold * u.arcsec)\n",
    "    md_indices = np.arange(len(md_df), dtype=int)\n",
    "    keep_indices = md_indices[arc_sec_mask]\n",
    "    md_objects_passing_catalog_match = md_df.loc[keep_indices]\n",
    "    #apply to images\n",
    "    return images[keep_indices], labels[keep_indices], md_objects_passing_catalog_match.reset_index(drop=True)"
   ]
  },
  {
   "cell_type": "code",
   "execution_count": 7,
   "metadata": {},
   "outputs": [],
   "source": [
    "X_trainsims, X_testsims, y_trainsims, y_testsims, mdtrainsims, mdtestsims = TrainTest('passed/Class_sims_images.h5','passed/Class_sims_metadata.csv',200,200,0)\n",
    "images_sims = np.concatenate((X_trainsims, X_testsims))\n",
    "y_sims = np.concatenate((y_trainsims, y_testsims))\n",
    "md_sims = pd.concat([mdtrainsims, mdtestsims])\n",
    "\n",
    "X_train0, X_test0, y_train0, y_test0, mdtrain0, mdtest0 = TrainTest('passed/Class_0_images.h5','passed/Class_0_metadata.csv',200,400,0)\n",
    "images_0 = np.concatenate((X_train0, X_test0))\n",
    "y_0 = np.concatenate((y_train0, y_test0))\n",
    "md_0 = pd.concat([mdtrain0, mdtest0])\n",
    "\n",
    "X_train1, X_test1, y_train1, y_test1, mdtrain1, mdtest1 = TrainTest('passed/Class_1_images.h5','passed/Class_1_metadata.csv',250,400,1)\n",
    "images_1 = np.concatenate((X_train1, X_test1))\n",
    "y_1 = np.concatenate((y_train1, y_test1))\n",
    "md_1 = pd.concat([mdtrain1, mdtest1])\n",
    "\n",
    "X_train3, X_test3, y_train3, y_test3, mdtrain3, mdtest3 = TrainTest('passed/Class_3_images.h5','passed/Class_3_metadata.csv',70,100,1)\n",
    "images_3 = np.concatenate((X_train3, X_test3))\n",
    "md_3 = pd.concat([mdtrain3, mdtest3])\n",
    "\n",
    "X_train4, X_test4, y_train4, y_test4, mdtrain4, mdtest4 = TrainTest('passed/Class_4_images.h5','passed/Class_4_metadata.csv',30,40,1)\n",
    "images_4 = np.concatenate((X_train4, X_test4))\n",
    "y_4 = np.concatenate((y_train4, y_test4))\n",
    "md_4 = pd.concat([mdtrain4, mdtest4])\n",
    "\n",
    "\n",
    "X_train6, X_test6, y_train6, y_test6, mdtrain6, mdtest6 = TrainTest('passed/Class_6_images.h5','passed/Class_6_metadata.csv',250,400,1)\n",
    "images_6 = np.concatenate((X_train6, X_test6))\n",
    "y_6 = np.concatenate((y_train6, y_test6))\n",
    "md_6 = pd.concat([mdtrain6, mdtest6])"
   ]
  },
  {
   "cell_type": "code",
   "execution_count": 14,
   "metadata": {},
   "outputs": [
    {
     "data": {
      "text/plain": [
       "400"
      ]
     },
     "execution_count": 14,
     "metadata": {},
     "output_type": "execute_result"
    }
   ],
   "source": [
    "len(images_6)"
   ]
  },
  {
   "cell_type": "code",
   "execution_count": 8,
   "metadata": {},
   "outputs": [],
   "source": [
    "X_train, X_test = np.concatenate((X_trainsims,X_train0,X_train1,X_train3,X_train4,X_train6)), np.concatenate((X_testsims,X_test0,X_test1,X_test3,X_test4,X_test6))\n",
    "y_train, y_test = np.concatenate((y_trainsims,y_train0,y_train1,y_train3,y_train4,y_train6)), np.concatenate((y_testsims,y_test0,y_test1,y_test3,y_test4,y_test6))\n",
    "md_train, md_test = pd.concat([mdtrainsims,mdtrain0,mdtrain1,mdtrain3,mdtrain4,mdtrain6], ignore_index=True), pd.concat([mdtestsims,mdtest0,mdtest1,mdtest3,mdtest4,mdtest6], ignore_index=True)"
   ]
  },
  {
   "cell_type": "code",
   "execution_count": 9,
   "metadata": {},
   "outputs": [
    {
     "name": "stdout",
     "output_type": "stream",
     "text": [
      "400\n",
      "250\n",
      "70\n",
      "23\n",
      "7\n",
      "250\n"
     ]
    }
   ],
   "source": [
    "print(len(md_train.loc[md_train['ACTION'] == 'Good']))\n",
    "print(len(md_train.loc[md_train['ACTION'] == 'Marginal']))\n",
    "print(len(md_train.loc[md_train['ACTION'] == 'BadSubtraction']))\n",
    "print(len(md_train.loc[md_train['ACTION'] == 'NoisyTemplate']))\n",
    "print(len(md_train.loc[md_train['ACTION'] == 'DarkSpotInTemplateCenter']))\n",
    "print(len(md_train.loc[md_train['ACTION'] == 'PsfInTemplate']))"
   ]
  },
  {
   "cell_type": "code",
   "execution_count": 10,
   "metadata": {},
   "outputs": [],
   "source": [
    "train_idx = np.arange(X_train.shape[0])\n",
    "np.random.shuffle(train_idx)\n",
    "X_train = X_train[train_idx]\n",
    "y_train = y_train[train_idx]\n",
    "md_train = md_train.iloc[train_idx].reset_index(drop=True)\n",
    "\n",
    "test_idx = np.arange(X_test.shape[0])\n",
    "np.random.shuffle(test_idx)\n",
    "X_test = X_test[test_idx]\n",
    "y_test = y_test[test_idx]\n",
    "md_test = md_test.iloc[test_idx].reset_index(drop=True)"
   ]
  },
  {
   "cell_type": "code",
   "execution_count": 9,
   "metadata": {},
   "outputs": [],
   "source": [
    "class ArtifactDataset(Dataset):\n",
    "    \"\"\"PyTorch Dataset of Artifact Images\"\"\"\n",
    "\n",
    "    def __init__(self, images, labels, metadata, transform=None):\n",
    "        self.images = images\n",
    "        self.labels = labels\n",
    "        self.transform = transform\n",
    "        self.metadata = metadata\n",
    "\n",
    "    def __len__(self):\n",
    "        return len(self.labels)\n",
    "\n",
    "    def __getitem__(self, idx):\n",
    "        if torch.is_tensor(idx):\n",
    "            idx = idx.tolist()\n",
    "\n",
    "        image = self.images[idx]\n",
    "        label = np.array(self.labels[idx])\n",
    "        objid = self.metadata.OBJID[idx]\n",
    "        \n",
    "        sample = {'image': image, 'label': label, 'objid': objid}\n",
    "\n",
    "        if self.transform:\n",
    "            sample = self.transform(sample)\n",
    "\n",
    "        return sample\n",
    "    \n",
    "class ToTensor(object):\n",
    "    \"\"\"Convert ndarrays in sample to Tensors.\"\"\"\n",
    "\n",
    "    def __call__(self, sample):\n",
    "        image_, label, objid = sample['image'], sample['label'], sample['objid']\n",
    "\n",
    "        scaled_array = (image_ - np.mean(image_,axis=(-1,-2),keepdims=True))/(10*np.std(image_,axis=(-1,-2),keepdims=True)) + 0.5\n",
    "        return {'image': torch.from_numpy(scaled_array).float(),\n",
    "                'label': torch.from_numpy(label),\n",
    "                'objid': torch.from_numpy(np.asarray(objid))}"
   ]
  },
  {
   "cell_type": "code",
   "execution_count": 10,
   "metadata": {},
   "outputs": [],
   "source": [
    "def make_datasets(X_train, y_train, X_test, y_test, md_train, md_test, batch_size=20):\n",
    "    \n",
    "    train_dataset = ArtifactDataset(X_train, y_train, md_train, transform=ToTensor())\n",
    "    test_dataset = ArtifactDataset(X_test, y_test, md_test, transform=ToTensor())\n",
    "    train_dataloader = DataLoader(train_dataset, batch_size=batch_size, shuffle=True, num_workers=4)\n",
    "    \n",
    "    return train_dataset, test_dataset, train_dataloader"
   ]
  },
  {
   "cell_type": "code",
   "execution_count": 13,
   "metadata": {},
   "outputs": [],
   "source": [
    "train_dataset, test_dataset, train_dataloader = make_datasets(X_train, y_train, X_test, y_test, md_train, md_test)"
   ]
  },
  {
   "cell_type": "code",
   "execution_count": 14,
   "metadata": {},
   "outputs": [],
   "source": [
    "train_size = 100\n",
    "validation_size = 100\n",
    "size_train = len(y_train)\n",
    "size_test = len(y_test)"
   ]
  },
  {
   "cell_type": "code",
   "execution_count": 11,
   "metadata": {},
   "outputs": [],
   "source": [
    "class CNN(nn.Module):\n",
    "    def __init__(self):\n",
    "        super(CNN, self).__init__()\n",
    "        \n",
    "        #Network Components\n",
    "        self.conv1 = nn.Conv2d(in_channels=3, \n",
    "                               out_channels=32, \n",
    "                               kernel_size=4, \n",
    "                               stride=1,\n",
    "                               padding=2)\n",
    "        \n",
    "        self.conv2 = nn.Conv2d(in_channels=32, \n",
    "                               out_channels=64,\n",
    "                               kernel_size=2, \n",
    "                               stride=1,\n",
    "                               padding=2)\n",
    "\n",
    "        self.conv3 = nn.Conv2d(in_channels=64, \n",
    "                               out_channels=128,\n",
    "                               kernel_size=2, \n",
    "                               stride=1,\n",
    "                               padding=2)\n",
    "        \n",
    "        self.dropout1 = nn.Dropout2d(0.25)\n",
    "        \n",
    "        self.dropout2 = nn.Dropout2d(0.5)\n",
    "        \n",
    "        self.fc1 = nn.Linear(in_features=107648, \n",
    "                             out_features=328)\n",
    "        \n",
    "        self.fc2 = nn.Linear(in_features=328, \n",
    "                             out_features=18)\n",
    "        \n",
    "        self.fc3 = nn.Linear(in_features=18, \n",
    "                             out_features=2)\n",
    "        \n",
    "    def forward(self, x):\n",
    "        #Network Flow\n",
    "        x = self.conv1(x)\n",
    "        x = F.relu(x)\n",
    "        x = self.conv2(x)\n",
    "        x = F.relu(x)\n",
    "        x = self.conv3(x)\n",
    "        x = F.relu(x)\n",
    "        x = F.max_pool2d(x, kernel_size=2)\n",
    "        x = self.dropout1(x)\n",
    "        x = torch.flatten(x, 1)\n",
    "        x = self.fc1(x)\n",
    "        x = F.relu(x)\n",
    "        x = self.dropout2(x)\n",
    "        x = self.fc2(x)\n",
    "        x = F.relu(x)\n",
    "        x = self.dropout2(x)\n",
    "        x = self.fc3(x)\n",
    "        output = F.log_softmax(x, dim=1)\n",
    "        return output\n",
    "    \n",
    "cnn = CNN()"
   ]
  },
  {
   "cell_type": "code",
   "execution_count": 16,
   "metadata": {},
   "outputs": [],
   "source": [
    "loss_function = nn.CrossEntropyLoss()\n",
    "learning_rate = 0.001\n",
    "optimizer = torch.optim.Adam(cnn.parameters(), lr=learning_rate)\n",
    "number_of_training_epochs = 10"
   ]
  },
  {
   "cell_type": "code",
   "execution_count": 17,
   "metadata": {},
   "outputs": [
    {
     "name": "stdout",
     "output_type": "stream",
     "text": [
      "Epoch: 1 Step: 0  | Training Accuracy: 0.5 -- Validation Accuracy: 0.43\n",
      "Epoch: 2 Step: 0  | Training Accuracy: 0.52 -- Validation Accuracy: 0.65\n",
      "Epoch: 3 Step: 0  | Training Accuracy: 0.45 -- Validation Accuracy: 0.65\n",
      "Epoch: 4 Step: 0  | Training Accuracy: 0.68 -- Validation Accuracy: 0.78\n",
      "Epoch: 5 Step: 0  | Training Accuracy: 0.83 -- Validation Accuracy: 0.73\n",
      "Epoch: 6 Step: 0  | Training Accuracy: 0.89 -- Validation Accuracy: 0.81\n",
      "Epoch: 7 Step: 0  | Training Accuracy: 0.87 -- Validation Accuracy: 0.8\n",
      "Epoch: 8 Step: 0  | Training Accuracy: 0.9 -- Validation Accuracy: 0.8\n",
      "Epoch: 9 Step: 0  | Training Accuracy: 0.88 -- Validation Accuracy: 0.79\n",
      "Epoch: 10 Step: 0  | Training Accuracy: 0.93 -- Validation Accuracy: 0.77\n"
     ]
    }
   ],
   "source": [
    "# Append some lists as we go to track the accuracies and loss\n",
    "indices, losses, train_acc, validation_acc = [], [], [], []\n",
    "index_counter = 0\n",
    "\n",
    "\n",
    "for epoch in range(number_of_training_epochs):\n",
    "    \n",
    "    for step, batch_data in enumerate(train_dataloader):\n",
    "        \n",
    "        #Clear out all existing gradients on the loss surface to reevaluate for this step\n",
    "        optimizer.zero_grad()\n",
    "        \n",
    "        #Get the CNN's current prediction of the training data\n",
    "        output = cnn(batch_data['image'])\n",
    "        \n",
    "        #Calculate the loss by comparing the prediction to the truth\n",
    "        loss = loss_function(output, batch_data['label'])\n",
    "        \n",
    "        #Evaluate all gradients along the loss surface using back propagation\n",
    "        loss.backward()\n",
    "        \n",
    "        #Based on the gradients, take the optimal step in the weight space\n",
    "        optimizer.step()\n",
    "            \n",
    "        \n",
    "        #Every so often, let's print out the accuracy\n",
    "        if step == 0:\n",
    "            \n",
    "            #Evaluate the network's predictions\n",
    "            train_output = cnn(train_dataset[0:train_size]['image'])\n",
    "            validation_output = cnn(test_dataset[0:validation_size]['image'])\n",
    "            \n",
    "            train_predictions = torch.max(train_output, 1)[1].data.numpy()\n",
    "            validation_predictions = torch.max(validation_output, 1)[1].data.numpy()\n",
    "            \n",
    "            #Calculate accuracy\n",
    "            train_accuracy = np.sum(train_predictions == train_dataset[0:train_size]['label'].numpy()) / train_size\n",
    "            validation_accuracy = np.sum(validation_predictions == test_dataset[0:validation_size]['label'].numpy()) / validation_size\n",
    "            \n",
    "            print(\"Epoch: {0} Step: {1}  | Training Accuracy: {2} -- Validation Accuracy: {3}\".format(epoch + 1, step, train_accuracy, validation_accuracy))\n",
    "            \n",
    "            #save results to list for diagnostic plots\n",
    "            indices.append(index_counter)\n",
    "            losses.append(loss.data.numpy())\n",
    "            train_acc.append(train_accuracy)\n",
    "            validation_acc.append(validation_accuracy)\n",
    "            index_counter += 1\n",
    "            \n",
    "            "
   ]
  },
  {
   "cell_type": "code",
   "execution_count": 12,
   "metadata": {},
   "outputs": [
    {
     "data": {
      "text/plain": [
       "CNN(\n",
       "  (conv1): Conv2d(3, 32, kernel_size=(4, 4), stride=(1, 1), padding=(2, 2))\n",
       "  (conv2): Conv2d(32, 64, kernel_size=(2, 2), stride=(1, 1), padding=(2, 2))\n",
       "  (conv3): Conv2d(64, 128, kernel_size=(2, 2), stride=(1, 1), padding=(2, 2))\n",
       "  (dropout1): Dropout2d(p=0.25, inplace=False)\n",
       "  (dropout2): Dropout2d(p=0.5, inplace=False)\n",
       "  (fc1): Linear(in_features=107648, out_features=328, bias=True)\n",
       "  (fc2): Linear(in_features=328, out_features=18, bias=True)\n",
       "  (fc3): Linear(in_features=18, out_features=2, bias=True)\n",
       ")"
      ]
     },
     "execution_count": 12,
     "metadata": {},
     "output_type": "execute_result"
    }
   ],
   "source": [
    "model2 = CNN()\n",
    "model2.load_state_dict(torch.load('/home/ashandonay/cosmology/model2.pt'))\n",
    "model2.eval()"
   ]
  },
  {
   "cell_type": "code",
   "execution_count": 13,
   "metadata": {},
   "outputs": [],
   "source": [
    "X_test = np.concatenate((X_test0,X_test1,X_test3,X_test4,X_test6))\n",
    "y_test = np.concatenate((y_test0,y_test1,y_test3,y_test4,y_test6))\n",
    "md_test = pd.concat([mdtest0,mdtest1,mdtest3,mdtest4,mdtest6], ignore_index=True)"
   ]
  },
  {
   "cell_type": "code",
   "execution_count": 14,
   "metadata": {},
   "outputs": [],
   "source": [
    "test_idx = np.arange(X_test.shape[0])\n",
    "np.random.shuffle(test_idx)\n",
    "X_test = X_test[test_idx]\n",
    "y_test = y_test[test_idx]\n",
    "md_test = md_test.iloc[test_idx].reset_index(drop=True)"
   ]
  },
  {
   "cell_type": "code",
   "execution_count": 15,
   "metadata": {},
   "outputs": [
    {
     "name": "stdout",
     "output_type": "stream",
     "text": [
      "158\n",
      "150\n",
      "20\n",
      "7\n",
      "3\n",
      "150\n"
     ]
    }
   ],
   "source": [
    "print(len(md_test.loc[md_test['ACTION'] == 'Good']))\n",
    "print(len(md_test.loc[md_test['ACTION'] == 'Marginal']))\n",
    "print(len(md_test.loc[md_test['ACTION'] == 'BadSubtraction']))\n",
    "print(len(md_test.loc[md_test['ACTION'] == 'NoisyTemplate']))\n",
    "print(len(md_test.loc[md_test['ACTION'] == 'DarkSpotInTemplateCenter']))\n",
    "print(len(md_test.loc[md_test['ACTION'] == 'PsfInTemplate']))"
   ]
  },
  {
   "cell_type": "code",
   "execution_count": 16,
   "metadata": {},
   "outputs": [],
   "source": [
    "test_dataset_full = ArtifactDataset(X_test, y_test, md_test, transform=ToTensor())"
   ]
  },
  {
   "cell_type": "code",
   "execution_count": 22,
   "metadata": {},
   "outputs": [],
   "source": [
    "validation_probs = torch.max(cnn(test_dataset_full[0:len(test_dataset_full)]['image']), 1)[1].data.numpy()"
   ]
  },
  {
   "cell_type": "code",
   "execution_count": 17,
   "metadata": {},
   "outputs": [],
   "source": [
    "validation_probs = model2(test_dataset_full[0:len(test_dataset_full)]['image']).data.numpy()"
   ]
  },
  {
   "cell_type": "code",
   "execution_count": 19,
   "metadata": {},
   "outputs": [
    {
     "data": {
      "text/plain": [
       "488"
      ]
     },
     "execution_count": 19,
     "metadata": {},
     "output_type": "execute_result"
    }
   ],
   "source": [
    "len(validation_probs)"
   ]
  },
  {
   "cell_type": "code",
   "execution_count": 20,
   "metadata": {},
   "outputs": [
    {
     "name": "stdout",
     "output_type": "stream",
     "text": [
      "[[-1.86419813 -4.249     ]]\n"
     ]
    }
   ],
   "source": [
    "from sklearn.linear_model import Perceptron\n",
    "from sklearn.metrics import accuracy_score\n",
    "\n",
    "scores = np.vstack((validation_probs[:,0],md_test.PHOTPROB)).T\n",
    "per_train = scores\n",
    "yper_train = y_test\n",
    "#per_test = validation_probs[200:488]\n",
    "#yper_test = y_test[200:488]\n",
    "\n",
    "clf = Perceptron(tol=1e-3, random_state=0)\n",
    "clf.fit(per_train, yper_train)\n",
    "#Perceptron()\n",
    "#yper_pred = clf.predict(per_test)\n",
    "#print(accuracy_score(yper_pred, yper_test))\n",
    "#clf.get_params()\n",
    "print(clf.coef_)\n",
    "np.save('coeffs.npy', {'coef': clf.coef_}, allow_pickle=True)"
   ]
  },
  {
   "cell_type": "code",
   "execution_count": 36,
   "metadata": {},
   "outputs": [
    {
     "name": "stdout",
     "output_type": "stream",
     "text": [
      "147\n",
      "56\n",
      "11\n",
      "9\n",
      "26\n"
     ]
    }
   ],
   "source": [
    "print(np.sum(prob2_class0 > 0.8))\n",
    "print(np.sum(prob2_class1 > 0.8))\n",
    "print(np.sum(prob2_class3 > 0.8))\n",
    "print(np.sum(prob2_class4 > 0.8))\n",
    "print(np.sum(prob2_class6 > 0.8))"
   ]
  },
  {
   "cell_type": "code",
   "execution_count": 23,
   "metadata": {},
   "outputs": [],
   "source": [
    "pred_class0 = validation_probs[md_test.loc[md_test['ACTION'] == 'Good'].index]\n",
    "pred_class1 = validation_probs[md_test.loc[md_test['ACTION'] == 'Marginal'].index]\n",
    "pred_class3 = validation_probs[md_test.loc[md_test['ACTION'] == 'BadSubtraction'].index]\n",
    "pred_class4 = validation_probs[(md_test.loc[md_test['ACTION'] == 'DarkSpotInTemplateCenter'].index) | \n",
    "                                         (md_test.loc[md_test['ACTION'] == 'NoisyTemplate'].index)]\n",
    "pred_class6 = validation_probs[md_test.loc[md_test['ACTION'] == 'PsfInTemplate'].index]"
   ]
  },
  {
   "cell_type": "code",
   "execution_count": 24,
   "metadata": {},
   "outputs": [],
   "source": [
    "pred0_class0 = (pred_class0 == 0).sum()\n",
    "pred1_class0 = (pred_class0 == 1).sum()\n",
    "\n",
    "pred0_class1 = (pred_class1 == 0).sum()\n",
    "pred1_class1 = (pred_class1 == 1).sum()\n",
    "\n",
    "pred0_class3 = (pred_class3 == 0).sum()\n",
    "pred1_class3 = (pred_class3 == 1).sum()\n",
    "\n",
    "pred0_class4 = (pred_class4 == 0).sum()\n",
    "pred1_class4 = (pred_class4 == 1).sum()\n",
    "\n",
    "pred0_class6 = (pred_class6 == 0).sum()\n",
    "pred1_class6 = (pred_class6 == 1).sum()"
   ]
  },
  {
   "cell_type": "code",
   "execution_count": 25,
   "metadata": {},
   "outputs": [
    {
     "data": {
      "image/png": "[encoded data removed]",
      "text/plain": [
       "<Figure size 720x576 with 1 Axes>"
      ]
     },
     "metadata": {
      "needs_background": "light"
     },
     "output_type": "display_data"
    }
   ],
   "source": [
    "cm = np.array([[pred0_class0,pred0_class1,pred0_class3,pred0_class4,pred0_class6],\n",
    "                [pred1_class0,pred1_class1,pred1_class3,pred1_class4,pred1_class6]])\n",
    "\n",
    "classes = ['Good','Marginal','Bad Sub','Dark Spot + Noisy','Point Source']\n",
    "labels = ['Good','Bad']\n",
    "\n",
    "fig, ax = plt.subplots(1,1,figsize=(10, 8))\n",
    "\n",
    "ax.imshow(cm, cmap=plt.cm.Blues)\n",
    "ax.set_xlabel(\"Class\", fontsize=20)\n",
    "ax.set_ylabel(\"Predictions\", fontsize=20)\n",
    "ax.set_xticks(np.arange(len(classes)))\n",
    "ax.set_yticks(np.arange(len(labels)))\n",
    "ax.set_xticklabels(classes, fontsize=12)\n",
    "ax.set_yticklabels(labels, fontsize=12)\n",
    "ax.axhline(0.5, linestyle='-', color='k', linewidth='3')\n",
    "ax.axvline(0.5, linestyle='-', color='k', linewidth='3')\n",
    "\n",
    "for i in range(len(labels)):\n",
    "    for j in range(len(classes)):\n",
    "        text = ax.text(j, i, cm[i, j],\n",
    "                       ha=\"center\", va=\"center\", fontsize=12)\n",
    "\n",
    "ax.set_title('Predictions (binary) For Each Class', fontsize=22)\n",
    "fig.tight_layout()"
   ]
  },
  {
   "cell_type": "code",
   "execution_count": 25,
   "metadata": {},
   "outputs": [
    {
     "data": {
      "image/png": "[encoded data removed]",
      "text/plain": [
       "<Figure size 720x576 with 1 Axes>"
      ]
     },
     "metadata": {
      "needs_background": "light"
     },
     "output_type": "display_data"
    }
   ],
   "source": [
    "cm = np.array([[pred0_class0,pred0_class1,pred0_class3,pred0_class4,pred0_class6],\n",
    "                [pred1_class0,pred1_class1,pred1_class3,pred1_class4,pred1_class6]])\n",
    "\n",
    "classes = ['Good','Marginal','Bad Sub','Dark Spot + Noisy','Point Source']\n",
    "labels = ['Good','Bad']\n",
    "\n",
    "fig, ax = plt.subplots(1,1,figsize=(10, 8))\n",
    "\n",
    "ax.imshow(cm, cmap=plt.cm.Blues)\n",
    "ax.set_xlabel(\"Class\", fontsize=20)\n",
    "ax.set_ylabel(\"Predictions\", fontsize=20)\n",
    "ax.set_xticks(np.arange(len(classes)))\n",
    "ax.set_yticks(np.arange(len(labels)))\n",
    "ax.set_xticklabels(classes, fontsize=12)\n",
    "ax.set_yticklabels(labels, fontsize=12)\n",
    "ax.axhline(0.5, linestyle='-', color='k', linewidth='3')\n",
    "ax.axvline(0.5, linestyle='-', color='k', linewidth='3')\n",
    "\n",
    "for i in range(len(labels)):\n",
    "    for j in range(len(classes)):\n",
    "        text = ax.text(j, i, cm[i, j],\n",
    "                       ha=\"center\", va=\"center\", fontsize=12)\n",
    "\n",
    "ax.set_title('Predictions (binary) For Each Class', fontsize=22)\n",
    "fig.tight_layout()"
   ]
  },
  {
   "cell_type": "code",
   "execution_count": 26,
   "metadata": {
    "scrolled": false
   },
   "outputs": [
    {
     "data": {
      "text/html": [
       "<div>\n",
       "<style scoped>\n",
       "    .dataframe tbody tr th:only-of-type {\n",
       "        vertical-align: middle;\n",
       "    }\n",
       "\n",
       "    .dataframe tbody tr th {\n",
       "        vertical-align: top;\n",
       "    }\n",
       "\n",
       "    .dataframe thead th {\n",
       "        text-align: right;\n",
       "    }\n",
       "</style>\n",
       "<table border=\"1\" class=\"dataframe\">\n",
       "  <thead>\n",
       "    <tr style=\"text-align: right;\">\n",
       "      <th></th>\n",
       "      <th>Unnamed: 0</th>\n",
       "      <th>index</th>\n",
       "      <th>MJD</th>\n",
       "      <th>FLT</th>\n",
       "      <th>FLUXCAL</th>\n",
       "      <th>FLUXCALERR</th>\n",
       "      <th>PHOTFLAG</th>\n",
       "      <th>PHOTPROB</th>\n",
       "      <th>ZPFLUX</th>\n",
       "      <th>PSF</th>\n",
       "      <th>...</th>\n",
       "      <th>TIME</th>\n",
       "      <th>USER</th>\n",
       "      <th>OBJID_COPY</th>\n",
       "      <th>BATCH</th>\n",
       "      <th>OBJID</th>\n",
       "      <th>Unnamed: 0.1</th>\n",
       "      <th>RA</th>\n",
       "      <th>DEC</th>\n",
       "      <th>HP_32_INDEX</th>\n",
       "      <th>SOURCE</th>\n",
       "    </tr>\n",
       "  </thead>\n",
       "  <tbody>\n",
       "    <tr>\n",
       "      <th>1</th>\n",
       "      <td>381</td>\n",
       "      <td>2759</td>\n",
       "      <td>58410.349</td>\n",
       "      <td>i</td>\n",
       "      <td>126.620</td>\n",
       "      <td>10.5380</td>\n",
       "      <td>12288</td>\n",
       "      <td>0.910</td>\n",
       "      <td>31.721</td>\n",
       "      <td>2.309</td>\n",
       "      <td>...</td>\n",
       "      <td>08/13/20 20:36:03</td>\n",
       "      <td>ashandonay</td>\n",
       "      <td>269568496.0</td>\n",
       "      <td>651.0</td>\n",
       "      <td>269568496.0</td>\n",
       "      <td>NaN</td>\n",
       "      <td>62.847109</td>\n",
       "      <td>-17.532497</td>\n",
       "      <td>9053</td>\n",
       "      <td>ArtifactSpy</td>\n",
       "    </tr>\n",
       "    <tr>\n",
       "      <th>2</th>\n",
       "      <td>445</td>\n",
       "      <td>3174</td>\n",
       "      <td>58438.098</td>\n",
       "      <td>i</td>\n",
       "      <td>132.910</td>\n",
       "      <td>11.0970</td>\n",
       "      <td>12288</td>\n",
       "      <td>0.862</td>\n",
       "      <td>31.682</td>\n",
       "      <td>2.010</td>\n",
       "      <td>...</td>\n",
       "      <td>07/10/20 00:36:11</td>\n",
       "      <td>ashandonay</td>\n",
       "      <td>273514419.0</td>\n",
       "      <td>243.0</td>\n",
       "      <td>273514419.0</td>\n",
       "      <td>NaN</td>\n",
       "      <td>31.716017</td>\n",
       "      <td>-9.559856</td>\n",
       "      <td>4373</td>\n",
       "      <td>ArtifactSpy</td>\n",
       "    </tr>\n",
       "    <tr>\n",
       "      <th>6</th>\n",
       "      <td>364</td>\n",
       "      <td>2600</td>\n",
       "      <td>58452.217</td>\n",
       "      <td>r</td>\n",
       "      <td>50.455</td>\n",
       "      <td>3.6765</td>\n",
       "      <td>12288</td>\n",
       "      <td>0.940</td>\n",
       "      <td>31.741</td>\n",
       "      <td>1.453</td>\n",
       "      <td>...</td>\n",
       "      <td>07/16/20 19:20:10</td>\n",
       "      <td>ramorgan2</td>\n",
       "      <td>277832706.0</td>\n",
       "      <td>369.0</td>\n",
       "      <td>277832706.0</td>\n",
       "      <td>NaN</td>\n",
       "      <td>29.937513</td>\n",
       "      <td>-27.790112</td>\n",
       "      <td>8925</td>\n",
       "      <td>ArtifactSpy</td>\n",
       "    </tr>\n",
       "    <tr>\n",
       "      <th>8</th>\n",
       "      <td>335</td>\n",
       "      <td>2425</td>\n",
       "      <td>58904.278</td>\n",
       "      <td>i</td>\n",
       "      <td>76.409</td>\n",
       "      <td>9.3214</td>\n",
       "      <td>12288</td>\n",
       "      <td>0.835</td>\n",
       "      <td>32.427</td>\n",
       "      <td>1.915</td>\n",
       "      <td>...</td>\n",
       "      <td>NaN</td>\n",
       "      <td>NaN</td>\n",
       "      <td>NaN</td>\n",
       "      <td>NaN</td>\n",
       "      <td>NaN</td>\n",
       "      <td>87.0</td>\n",
       "      <td>176.716191</td>\n",
       "      <td>-11.737347</td>\n",
       "      <td>6369</td>\n",
       "      <td>s200224ca_good</td>\n",
       "    </tr>\n",
       "    <tr>\n",
       "      <th>10</th>\n",
       "      <td>378</td>\n",
       "      <td>2731</td>\n",
       "      <td>58429.063</td>\n",
       "      <td>g</td>\n",
       "      <td>51.327</td>\n",
       "      <td>6.0954</td>\n",
       "      <td>12288</td>\n",
       "      <td>0.830</td>\n",
       "      <td>31.629</td>\n",
       "      <td>2.702</td>\n",
       "      <td>...</td>\n",
       "      <td>08/09/20 19:40:34</td>\n",
       "      <td>ramorgan2</td>\n",
       "      <td>271658505.0</td>\n",
       "      <td>574.0</td>\n",
       "      <td>271658505.0</td>\n",
       "      <td>NaN</td>\n",
       "      <td>334.916540</td>\n",
       "      <td>-43.691126</td>\n",
       "      <td>11668</td>\n",
       "      <td>ArtifactSpy</td>\n",
       "    </tr>\n",
       "    <tr>\n",
       "      <th>...</th>\n",
       "      <td>...</td>\n",
       "      <td>...</td>\n",
       "      <td>...</td>\n",
       "      <td>...</td>\n",
       "      <td>...</td>\n",
       "      <td>...</td>\n",
       "      <td>...</td>\n",
       "      <td>...</td>\n",
       "      <td>...</td>\n",
       "      <td>...</td>\n",
       "      <td>...</td>\n",
       "      <td>...</td>\n",
       "      <td>...</td>\n",
       "      <td>...</td>\n",
       "      <td>...</td>\n",
       "      <td>...</td>\n",
       "      <td>...</td>\n",
       "      <td>...</td>\n",
       "      <td>...</td>\n",
       "      <td>...</td>\n",
       "      <td>...</td>\n",
       "    </tr>\n",
       "    <tr>\n",
       "      <th>281</th>\n",
       "      <td>316</td>\n",
       "      <td>2283</td>\n",
       "      <td>58429.034</td>\n",
       "      <td>r</td>\n",
       "      <td>58.796</td>\n",
       "      <td>5.8745</td>\n",
       "      <td>12288</td>\n",
       "      <td>0.822</td>\n",
       "      <td>31.745</td>\n",
       "      <td>1.917</td>\n",
       "      <td>...</td>\n",
       "      <td>08/18/20 09:57:31</td>\n",
       "      <td>ramorgan2</td>\n",
       "      <td>271621137.0</td>\n",
       "      <td>707.0</td>\n",
       "      <td>271621137.0</td>\n",
       "      <td>NaN</td>\n",
       "      <td>309.239920</td>\n",
       "      <td>-52.406838</td>\n",
       "      <td>11501</td>\n",
       "      <td>ArtifactSpy</td>\n",
       "    </tr>\n",
       "    <tr>\n",
       "      <th>289</th>\n",
       "      <td>340</td>\n",
       "      <td>2460</td>\n",
       "      <td>58905.283</td>\n",
       "      <td>i</td>\n",
       "      <td>45.719</td>\n",
       "      <td>5.5476</td>\n",
       "      <td>12288</td>\n",
       "      <td>0.887</td>\n",
       "      <td>32.311</td>\n",
       "      <td>1.720</td>\n",
       "      <td>...</td>\n",
       "      <td>NaN</td>\n",
       "      <td>NaN</td>\n",
       "      <td>NaN</td>\n",
       "      <td>NaN</td>\n",
       "      <td>NaN</td>\n",
       "      <td>205.0</td>\n",
       "      <td>173.542273</td>\n",
       "      <td>-11.413514</td>\n",
       "      <td>6370</td>\n",
       "      <td>s200224ca_good</td>\n",
       "    </tr>\n",
       "    <tr>\n",
       "      <th>290</th>\n",
       "      <td>441</td>\n",
       "      <td>3152</td>\n",
       "      <td>58454.063</td>\n",
       "      <td>r</td>\n",
       "      <td>48.627</td>\n",
       "      <td>4.6760</td>\n",
       "      <td>12288</td>\n",
       "      <td>0.843</td>\n",
       "      <td>31.760</td>\n",
       "      <td>1.997</td>\n",
       "      <td>...</td>\n",
       "      <td>08/18/20 09:58:49</td>\n",
       "      <td>ramorgan2</td>\n",
       "      <td>278824331.0</td>\n",
       "      <td>676.0</td>\n",
       "      <td>278824331.0</td>\n",
       "      <td>NaN</td>\n",
       "      <td>22.809670</td>\n",
       "      <td>-31.042382</td>\n",
       "      <td>8911</td>\n",
       "      <td>ArtifactSpy</td>\n",
       "    </tr>\n",
       "    <tr>\n",
       "      <th>301</th>\n",
       "      <td>336</td>\n",
       "      <td>2428</td>\n",
       "      <td>58410.308</td>\n",
       "      <td>r</td>\n",
       "      <td>165.440</td>\n",
       "      <td>6.0420</td>\n",
       "      <td>12800</td>\n",
       "      <td>0.935</td>\n",
       "      <td>31.781</td>\n",
       "      <td>2.051</td>\n",
       "      <td>...</td>\n",
       "      <td>08/09/20 23:42:38</td>\n",
       "      <td>ashandonay</td>\n",
       "      <td>269615943.0</td>\n",
       "      <td>550.0</td>\n",
       "      <td>269615943.0</td>\n",
       "      <td>NaN</td>\n",
       "      <td>44.023273</td>\n",
       "      <td>-10.920604</td>\n",
       "      <td>9167</td>\n",
       "      <td>ArtifactSpy</td>\n",
       "    </tr>\n",
       "    <tr>\n",
       "      <th>305</th>\n",
       "      <td>348</td>\n",
       "      <td>2511</td>\n",
       "      <td>58430.274</td>\n",
       "      <td>g</td>\n",
       "      <td>79.187</td>\n",
       "      <td>4.7165</td>\n",
       "      <td>12288</td>\n",
       "      <td>0.980</td>\n",
       "      <td>31.648</td>\n",
       "      <td>2.485</td>\n",
       "      <td>...</td>\n",
       "      <td>08/18/20 09:23:15</td>\n",
       "      <td>ramorgan2</td>\n",
       "      <td>287630077.0</td>\n",
       "      <td>617.0</td>\n",
       "      <td>287630077.0</td>\n",
       "      <td>NaN</td>\n",
       "      <td>52.158004</td>\n",
       "      <td>-35.269963</td>\n",
       "      <td>8634</td>\n",
       "      <td>ArtifactSpy</td>\n",
       "    </tr>\n",
       "  </tbody>\n",
       "</table>\n",
       "<p>92 rows × 30 columns</p>\n",
       "</div>"
      ],
      "text/plain": [
       "     Unnamed: 0  index        MJD FLT  FLUXCAL  FLUXCALERR  PHOTFLAG  \\\n",
       "1           381   2759  58410.349   i  126.620     10.5380     12288   \n",
       "2           445   3174  58438.098   i  132.910     11.0970     12288   \n",
       "6           364   2600  58452.217   r   50.455      3.6765     12288   \n",
       "8           335   2425  58904.278   i   76.409      9.3214     12288   \n",
       "10          378   2731  58429.063   g   51.327      6.0954     12288   \n",
       "..          ...    ...        ...  ..      ...         ...       ...   \n",
       "281         316   2283  58429.034   r   58.796      5.8745     12288   \n",
       "289         340   2460  58905.283   i   45.719      5.5476     12288   \n",
       "290         441   3152  58454.063   r   48.627      4.6760     12288   \n",
       "301         336   2428  58410.308   r  165.440      6.0420     12800   \n",
       "305         348   2511  58430.274   g   79.187      4.7165     12288   \n",
       "\n",
       "     PHOTPROB  ZPFLUX    PSF  ...               TIME        USER   OBJID_COPY  \\\n",
       "1       0.910  31.721  2.309  ...  08/13/20 20:36:03  ashandonay  269568496.0   \n",
       "2       0.862  31.682  2.010  ...  07/10/20 00:36:11  ashandonay  273514419.0   \n",
       "6       0.940  31.741  1.453  ...  07/16/20 19:20:10   ramorgan2  277832706.0   \n",
       "8       0.835  32.427  1.915  ...                NaN         NaN          NaN   \n",
       "10      0.830  31.629  2.702  ...  08/09/20 19:40:34   ramorgan2  271658505.0   \n",
       "..        ...     ...    ...  ...                ...         ...          ...   \n",
       "281     0.822  31.745  1.917  ...  08/18/20 09:57:31   ramorgan2  271621137.0   \n",
       "289     0.887  32.311  1.720  ...                NaN         NaN          NaN   \n",
       "290     0.843  31.760  1.997  ...  08/18/20 09:58:49   ramorgan2  278824331.0   \n",
       "301     0.935  31.781  2.051  ...  08/09/20 23:42:38  ashandonay  269615943.0   \n",
       "305     0.980  31.648  2.485  ...  08/18/20 09:23:15   ramorgan2  287630077.0   \n",
       "\n",
       "     BATCH        OBJID  Unnamed: 0.1          RA        DEC HP_32_INDEX  \\\n",
       "1    651.0  269568496.0           NaN   62.847109 -17.532497        9053   \n",
       "2    243.0  273514419.0           NaN   31.716017  -9.559856        4373   \n",
       "6    369.0  277832706.0           NaN   29.937513 -27.790112        8925   \n",
       "8      NaN          NaN          87.0  176.716191 -11.737347        6369   \n",
       "10   574.0  271658505.0           NaN  334.916540 -43.691126       11668   \n",
       "..     ...          ...           ...         ...        ...         ...   \n",
       "281  707.0  271621137.0           NaN  309.239920 -52.406838       11501   \n",
       "289    NaN          NaN         205.0  173.542273 -11.413514        6370   \n",
       "290  676.0  278824331.0           NaN   22.809670 -31.042382        8911   \n",
       "301  550.0  269615943.0           NaN   44.023273 -10.920604        9167   \n",
       "305  617.0  287630077.0           NaN   52.158004 -35.269963        8634   \n",
       "\n",
       "             SOURCE  \n",
       "1       ArtifactSpy  \n",
       "2       ArtifactSpy  \n",
       "6       ArtifactSpy  \n",
       "8    s200224ca_good  \n",
       "10      ArtifactSpy  \n",
       "..              ...  \n",
       "281     ArtifactSpy  \n",
       "289  s200224ca_good  \n",
       "290     ArtifactSpy  \n",
       "301     ArtifactSpy  \n",
       "305     ArtifactSpy  \n",
       "\n",
       "[92 rows x 30 columns]"
      ]
     },
     "execution_count": 26,
     "metadata": {},
     "output_type": "execute_result"
    }
   ],
   "source": [
    "md_test.loc[md_test['ACTION'] == 'Good'][0:92]"
   ]
  },
  {
   "cell_type": "code",
   "execution_count": 31,
   "metadata": {},
   "outputs": [],
   "source": [
    "#torch.save(cnn.state_dict(), '/home/ashandonay/cosmology/model2.pt')"
   ]
  },
  {
   "cell_type": "code",
   "execution_count": 28,
   "metadata": {},
   "outputs": [],
   "source": [
    "validation_probs = model2(test_dataset_full[0:len(test_dataset_full)]['image']).data.numpy()"
   ]
  },
  {
   "cell_type": "code",
   "execution_count": 29,
   "metadata": {},
   "outputs": [],
   "source": [
    "validation_probs -= validation_probs.min()\n",
    "validation_probs /= validation_probs.max()\n",
    "validation_probs /= np.sum(validation_probs, axis=1)[:,np.newaxis]"
   ]
  },
  {
   "cell_type": "code",
   "execution_count": 30,
   "metadata": {},
   "outputs": [],
   "source": [
    "prob_class0 = validation_probs[md_test.loc[md_test['ACTION'] == 'Good'].index]\n",
    "prob_class1 = validation_probs[md_test.loc[md_test['ACTION'] == 'Marginal'].index]\n",
    "prob_class3 = validation_probs[md_test.loc[md_test['ACTION'] == 'BadSubtraction'].index]\n",
    "prob_class4 = validation_probs[(md_test.loc[md_test['ACTION'] == 'DarkSpotInTemplateCenter'].index) | \n",
    "                                         (md_test.loc[md_test['ACTION'] == 'NoisyTemplate'].index)]\n",
    "prob_class6 = validation_probs[md_test.loc[md_test['ACTION'] == 'PsfInTemplate'].index]"
   ]
  },
  {
   "cell_type": "code",
   "execution_count": 33,
   "metadata": {},
   "outputs": [
    {
     "data": {
      "image/png": "[encoded data removed]",
      "text/plain": [
       "<Figure size 1440x960 with 1 Axes>"
      ]
     },
     "metadata": {
      "needs_background": "light"
     },
     "output_type": "display_data"
    }
   ],
   "source": [
    "plt.figure(figsize=(12,8), dpi=120)\n",
    "#plt.hist(prob_class0[:,0], density=True, label=\"Good\", histtype=\"step\", range=(0.4,0.7), lw=2, bins=30)\n",
    "plt.hist(prob_class0[:,0],label= \"Transient + Host\",histtype=\"step\",lw=2.5,color='#1F78B4',bins=16,zorder=3)\n",
    "plt.hist(prob_class1[:,0],label= \"No Obvious Transient\",histtype=\"step\",lw=2.5,color='#33A02C',bins=16,zorder=2)\n",
    "plt.hist(prob_class3[:,0], label= \"Bad Sub\", histtype=\"step\",color='#FF7F00', lw=2.5, bins=16, zorder=4)\n",
    "#plt.axvline(0.485, c=\"red\", lw=2.5)\n",
    "plt.hist(prob_class4[:,0], label = \"Noisy + Dark Spot\", histtype=\"step\", lw=2.5,color='#6A3D9A', bins=16)\n",
    "plt.hist(prob_class6[:,0],label = \"Pre-existing Point Source\",histtype=\"step\",lw=2.5,color='#B15928',bins=16,zorder=1)\n",
    "plt.xlabel(\"Probability of being good\")\n",
    "plt.ylabel(\"Counts\")\n",
    "plt.xlim(0,1)\n",
    "plt.xticks(fontsize=18)\n",
    "plt.yticks(fontsize=18)\n",
    "plt.xlabel('Probability of Being Transient + Host',fontsize=20)\n",
    "plt.ylabel('Number of Images',fontsize=20)\n",
    "plt.legend(loc=\"upper left\", fontsize=18)\n",
    "plt.tight_layout()"
   ]
  },
  {
   "cell_type": "code",
   "execution_count": 35,
   "metadata": {},
   "outputs": [
    {
     "name": "stdout",
     "output_type": "stream",
     "text": [
      "125\n",
      "43\n",
      "7\n",
      "9\n",
      "14\n"
     ]
    }
   ],
   "source": [
    "print(np.sum(prob_class0[:,0] > 0.5))\n",
    "print(np.sum(prob_class1[:,0] > 0.5))\n",
    "print(np.sum(prob_class3[:,0] > 0.5))\n",
    "print(np.sum(prob_class4[:,0] > 0.5))\n",
    "print(np.sum(prob_class6[:,0] > 0.5))"
   ]
  },
  {
   "cell_type": "code",
   "execution_count": 39,
   "metadata": {},
   "outputs": [
    {
     "data": {
      "text/plain": [
       "(20,)"
      ]
     },
     "execution_count": 39,
     "metadata": {},
     "output_type": "execute_result"
    }
   ],
   "source": [
    "prob_class3[:,0].shape"
   ]
  },
  {
   "cell_type": "code",
   "execution_count": null,
   "metadata": {},
   "outputs": [],
   "source": []
  }
 ],
 "metadata": {
  "kernelspec": {
   "display_name": "Python 3",
   "language": "python",
   "name": "python3"
  },
  "language_info": {
   "codemirror_mode": {
    "name": "ipython",
    "version": 3
   },
   "file_extension": ".py",
   "mimetype": "text/x-python",
   "name": "python",
   "nbconvert_exporter": "python",
   "pygments_lexer": "ipython3",
   "version": "3.7.6"
  }
 },
 "nbformat": 4,
 "nbformat_minor": 4
}
