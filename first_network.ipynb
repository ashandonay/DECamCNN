{
 "cells": [
  {
   "cell_type": "code",
   "execution_count": 1,
   "metadata": {},
   "outputs": [],
   "source": [
    "from astropy.coordinates import SkyCoord\n",
    "from astropy.coordinates import match_coordinates_sky\n",
    "from astropy import units as u\n",
    "\n",
    "import glob\n",
    "import h5py\n",
    "import itertools\n",
    "import matplotlib.pyplot as plt\n",
    "import numpy as np\n",
    "np.random.seed(6)\n",
    "import pandas as pd\n",
    "from pycm import ConfusionMatrix\n",
    "from sklearn.model_selection import train_test_split\n",
    "from sklearn.metrics import accuracy_score\n",
    "import sys\n",
    "\n",
    "import torch\n",
    "import torch.nn as nn\n",
    "import torch.nn.functional as F\n",
    "import torch.utils.data as Data\n",
    "from torch.utils.data import Dataset, DataLoader\n",
    "from torch.utils.data import TensorDataset\n",
    "import torchvision\n",
    "import torchvision.models as models\n",
    "from torchvision import transforms\n",
    "from scipy import ndimage\n",
    "from scipy.interpolate import LinearNDInterpolator"
   ]
  },
  {
   "cell_type": "code",
   "execution_count": 2,
   "metadata": {},
   "outputs": [],
   "source": [
    "def TrainTest(dataset, md, cut, stop, value):\n",
    "    \n",
    "    hf = h5py.File(dataset, 'r')\n",
    "    dataset_name = list(hf.keys())[0]\n",
    "    images = np.array(hf.get(dataset_name))\n",
    "    hf.close()\n",
    "    X_train, X_test = images[0:cut], images[cut:stop]\n",
    "    md_df = pd.read_csv(md)\n",
    "    if 'OBJID_COPY' in md_df:\n",
    "        md_df['OBJID'] = md_df['OBJID_COPY'].values\n",
    "    md_train, md_test = md_df[0:cut], md_df[cut:stop]\n",
    "    \n",
    "\n",
    "    y_train, y_test = np.array([value] * len(X_train)), np.array([value] * len(X_test))\n",
    "    \n",
    "    return X_train, X_test, y_train, y_test, md_train, md_test"
   ]
  },
  {
   "cell_type": "code",
   "execution_count": 3,
   "metadata": {},
   "outputs": [],
   "source": [
    "def gaussian2D(distance_to_center, sigma):\n",
    "    return 1/(sigma**2*2*np.pi)*np.exp(-0.5*((distance_to_center)/sigma)**2)"
   ]
  },
  {
   "cell_type": "code",
   "execution_count": 4,
   "metadata": {},
   "outputs": [],
   "source": [
    "def TemplateCenter(images, metadata):\n",
    "    template_images = images[:,0,:,:]\n",
    "    psfs = metadata['PSF'].values\n",
    "    psf_in_px = psfs / 0.263\n",
    "    psf_in_px = psfs[:,np.newaxis,np.newaxis] / 0.263 / 2.3548\n",
    "    yy, xx = np.indices(template_images[0].shape)\n",
    "    center_x, center_y = 25, 25\n",
    "    distance_to_center = np.sqrt((yy - center_y)**2 + (xx - center_x)**2)[np.newaxis,:]\n",
    "    distance_to_center = np.vstack(len(template_images)*[distance_to_center])\n",
    "    psf_weights = gaussian2D(distance_to_center, psf_in_px)\n",
    "    backgrounds = np.median(template_images, axis=(-1,-2))[:,np.newaxis,np.newaxis]\n",
    "    center_fluxes = np.sum((template_images - backgrounds) * psf_weights, axis=(-1,-2))\n",
    "    return center_fluxes"
   ]
  },
  {
   "cell_type": "code",
   "execution_count": 5,
   "metadata": {},
   "outputs": [],
   "source": [
    "def SNR(metadata):\n",
    "    metadata['SNR'] = metadata['FLUXCAL'].values/metadata['FLUXCALERR'].values\n",
    "    return metadata['SNR'].values"
   ]
  },
  {
   "cell_type": "code",
   "execution_count": 6,
   "metadata": {},
   "outputs": [],
   "source": [
    "def CatalogMatching(images, labels, metadata):\n",
    "    # read in LightCurvesRealCoords.csv\n",
    "    snid_coords = pd.read_csv('LightCurvesRealCoords.csv')\n",
    "    # assume metadata is stored in \"md_df\"\n",
    "    md_df = metadata.merge(snid_coords, on='SNID', how='inner')\n",
    "    # Load in catalog\n",
    "    catalog_df = pd.read_csv('DES_Star_Catalog_SOF.csv')\n",
    "    # Use astropy\n",
    "    catalog_coords = SkyCoord(ra= catalog_df['STAR_RA'].values*u.degree, dec= catalog_df['STAR_DEC'].values * u.degree)\n",
    "    candidate_coords = SkyCoord(ra= md_df['RA'].values*u.degree, dec= md_df['DEC'].values * u.degree)\n",
    "    idx, d2d, d3d = match_coordinates_sky(candidate_coords, catalog_coords)\n",
    "    #https://docs.astropy.org/en/stable/api/astropy.coordinates.match_coordinates_sky.html#astropy.coordinates.match_coordinates_sky\n",
    "    # filter results\n",
    "    threshold = 1 # in arcsec\n",
    "    arc_sec_mask = (d2d > threshold * u.arcsec)\n",
    "    md_indices = np.arange(len(md_df), dtype=int)\n",
    "    keep_indices = md_indices[arc_sec_mask]\n",
    "    md_objects_passing_catalog_match = md_df.loc[keep_indices]\n",
    "    #apply to images\n",
    "    return images[keep_indices], labels[keep_indices], md_objects_passing_catalog_match.reset_index(drop=True)"
   ]
  },
  {
   "cell_type": "code",
   "execution_count": 7,
   "metadata": {},
   "outputs": [],
   "source": [
    "X_train0_0, X_test0_0, y_train0_0, y_test0_0, mdtrain0_0, mdtest0_0 = TrainTest('TS__2020-11-25_19-38-15/Class_0_images.h5','TS__2020-11-25_19-38-15/Class_0_metadata.csv',100,371,0)\n",
    "X_train0_2, X_test0_2, y_train0_2, y_test0_2, mdtrain0_2, mdtest0_2 = TrainTest('Real__20-07-11_21-31-43/s200224ca_images.h5','Real__20-07-11_21-31-43/s200224ca_metadata.csv',100,214,0)\n",
    "\n",
    "mdtrain0_2['ACTION'] = ['Good' for i in range(len(mdtrain0_2))]\n",
    "mdtest0_2['ACTION'] = ['Good' for i in range(len(mdtest0_2))]\n",
    "\n",
    "X_train0, X_test0 = np.concatenate((X_train0_0,X_train0_2)), np.concatenate((X_test0_0,X_test0_2))\n",
    "y_train0, y_test0 = np.concatenate((y_train0_0,y_train0_2)), np.concatenate((y_test0_0,y_test0_2))\n",
    "mdtrain0, mdtest0 = pd.concat([mdtrain0_0,mdtrain0_2]), pd.concat([mdtest0_0,mdtest0_2])\n",
    "images_0 = np.concatenate((X_train0_0,X_train0_2,X_test0_0,X_test0_2))\n",
    "y_0 = np.concatenate((y_train0_0, y_train0_2, y_test0_0, y_test0_2))\n",
    "md_0 = pd.concat([mdtrain0,mdtest0])\n",
    "\n",
    "X_train1, X_test1, y_train1, y_test1, mdtrain1, mdtest1 = TrainTest('TS__2020-11-25_19-38-15/Class_1_images.h5','TS__2020-11-25_19-38-15/Class_1_metadata.csv',500,1000,0)\n",
    "images_1 = np.concatenate((X_train1, X_test1))\n",
    "y_1 = np.concatenate((y_train1, y_test1))\n",
    "md_1 = pd.concat([mdtrain1, mdtest1])\n",
    "\n",
    "X_train3, X_test3, y_train3, y_test3, mdtrain3, mdtest3 = TrainTest('TS__2020-11-25_19-38-15/Class_3_images.h5','TS__2020-11-25_19-38-15/Class_3_metadata.csv',450,1450,1)\n",
    "images_3 = np.concatenate((X_train3, X_test3))\n",
    "y_3 = np.concatenate((y_train3, y_test3))\n",
    "md_3 = pd.concat([mdtrain3, mdtest3])\n",
    "\n",
    "X_train4, X_test4, y_train4, y_test4, mdtrain4, mdtest4 = TrainTest('TS__2020-11-25_19-38-15/Class_4_images.h5','TS__2020-11-25_19-38-15/Class_4_metadata.csv',274,363,0)\n",
    "images_4 = np.concatenate((X_train4, X_test4))\n",
    "y_4 = np.concatenate((y_train4, y_test4))\n",
    "md_4 = pd.concat([mdtrain4, mdtest4])\n",
    "\n",
    "X_train5, X_test5, y_train5, y_test5, mdtrain5, mdtest5 = TrainTest('TS__2020-11-25_19-38-15/Class_5_images.h5','TS__2020-11-25_19-38-15/Class_5_metadata.csv',274,368,0)\n",
    "images_5 = np.concatenate((X_train5, X_test5))\n",
    "y_5 = np.concatenate((y_train5, y_test5))\n",
    "md_5 = pd.concat([mdtrain5, mdtest5])\n",
    "\n",
    "X_train6, X_test6, y_train6, y_test6, mdtrain6, mdtest6 = TrainTest('TS__2020-11-25_19-38-15/Class_6_images.h5','TS__2020-11-25_19-38-15/Class_6_metadata.csv',362,1100,0)\n",
    "images_6 = np.concatenate((X_train6, X_test6))\n",
    "y_6 = np.concatenate((y_train6, y_test6))\n",
    "md_6 = pd.concat([mdtrain6, mdtest6])"
   ]
  },
  {
   "cell_type": "code",
   "execution_count": 8,
   "metadata": {},
   "outputs": [
    {
     "name": "stderr",
     "output_type": "stream",
     "text": [
      "/home/ashandonay/miniconda3/envs/ml_astro/lib/python3.7/site-packages/ipykernel_launcher.py:18: RuntimeWarning: invalid value encountered in long_scalars\n",
      "/home/ashandonay/miniconda3/envs/ml_astro/lib/python3.7/site-packages/ipykernel_launcher.py:33: RuntimeWarning: invalid value encountered in long_scalars\n"
     ]
    }
   ],
   "source": [
    "class0_centers = TemplateCenter(images_0,md_0)\n",
    "class1_centers = TemplateCenter(images_1,md_1)\n",
    "class3_centers = TemplateCenter(images_3,md_3)\n",
    "class4_centers = TemplateCenter(images_4,md_4)\n",
    "class5_centers = TemplateCenter(images_5,md_5)\n",
    "class6_centers = TemplateCenter(images_6,md_6)\n",
    "good_centers = np.concatenate((class0_centers, class1_centers, class3_centers, class6_centers))\n",
    "notgood_centers = np.concatenate((class4_centers, class5_centers))\n",
    "md_good = pd.concat([md_0, md_1, md_3, md_6], ignore_index=True)\n",
    "md_notgood = pd.concat([md_4,md_5], ignore_index=True)\n",
    "purity_centers, completeness_centers = [], []\n",
    "thresholds = np.linspace(np.concatenate((good_centers, notgood_centers)).min(), \n",
    "                         np.concatenate((good_centers, notgood_centers)).max(), 1000)\n",
    "for threshold in thresholds:\n",
    "    tp = np.sum(good_centers > threshold)\n",
    "    fn = np.sum(good_centers < threshold)\n",
    "    fp = np.sum(notgood_centers > threshold)\n",
    "    purity_centers.append(tp / (tp + fp))\n",
    "    completeness_centers.append(tp / (tp + fn))\n",
    "desired_completeness = 0.99\n",
    "center_thres = thresholds[np.argmin(np.abs(np.array(completeness_centers) - desired_completeness))]\n",
    "\n",
    "\n",
    "thresgood_snr = SNR(md_good.loc[np.where(good_centers > center_thres)[0]])\n",
    "thresbad_snr = SNR(md_notgood.loc[np.where(notgood_centers > center_thres)[0]])\n",
    "purity_snr, completeness_snr = [], []\n",
    "thresholds = np.linspace(np.concatenate((thresbad_snr, thresgood_snr)).min(), \n",
    "                         np.concatenate((thresbad_snr, thresgood_snr)).max(), 1000)\n",
    "for threshold in thresholds:\n",
    "    tp = np.sum(thresgood_snr > threshold)\n",
    "    fn = np.sum(thresgood_snr < threshold)\n",
    "    fp = np.sum(thresbad_snr > threshold)\n",
    "    purity_snr.append(tp / (tp + fp))\n",
    "    completeness_snr.append(tp / (tp + fn))\n",
    "desired_completeness = 0.99\n",
    "snr_thres = thresholds[np.argmin(np.abs(np.array(completeness_snr) - desired_completeness))]"
   ]
  },
  {
   "cell_type": "code",
   "execution_count": 10,
   "metadata": {},
   "outputs": [],
   "source": [
    "X_train, X_test = np.concatenate((X_train0,X_train3)), np.concatenate((X_test0,X_test3))\n",
    "y_train, y_test = np.concatenate((y_train0,y_train3)), np.concatenate((y_test0,y_test3))\n",
    "md_train, md_test = pd.concat([mdtrain0,mdtrain3], ignore_index=True), pd.concat([mdtest0,mdtest3], ignore_index=True)"
   ]
  },
  {
   "cell_type": "code",
   "execution_count": 11,
   "metadata": {},
   "outputs": [],
   "source": [
    "train_centers = TemplateCenter(X_train, md_train)\n",
    "test_centers = TemplateCenter(X_test, md_test)\n",
    "\n",
    "train_snr = SNR(md_train.loc[np.where(train_centers > center_thres)[0]])\n",
    "test_snr = SNR(md_test.loc[np.where(test_centers > center_thres)[0]])\n",
    "\n",
    "md_train_centers = md_train.loc[np.where(train_centers > center_thres)[0]].reset_index(drop=True)\n",
    "md_test_centers = md_test.loc[np.where(test_centers > center_thres)[0]].reset_index(drop=True)\n",
    "\n",
    "md_train_filtered = md_train_centers.loc[np.where(train_snr > snr_thres)[0]]\n",
    "md_test_filtered = md_test_centers.loc[np.where(test_snr > snr_thres)[0]]\n",
    "\n",
    "train_remaining_indices = md_train[['OBJID']].merge(md_train_filtered, on='OBJID', how='inner', right_index=True).index\n",
    "test_remaining_indices = md_test[['OBJID']].merge(md_test_filtered, on='OBJID', how='inner', right_index=True).index\n",
    "\n",
    "X_train = X_train[train_remaining_indices]\n",
    "X_test = X_test[test_remaining_indices]\n",
    "y_train = y_train[train_remaining_indices]\n",
    "y_test = y_test[test_remaining_indices]\n",
    "md_train = md_train_filtered.reset_index(drop=True)\n",
    "md_test = md_test_filtered.reset_index(drop=True)\n",
    "\n",
    "X_train, y_train, md_train = CatalogMatching(X_train, y_train, md_train)\n",
    "X_test, y_test, md_test = CatalogMatching(X_test, y_test, md_test)"
   ]
  },
  {
   "cell_type": "code",
   "execution_count": 12,
   "metadata": {},
   "outputs": [],
   "source": [
    "X_train0_sims, X_test0_sims, y_train0_sims, y_test0_sims, mdtrain0_sims, mdtest0_sims = TrainTest('good_simulated_images.h5','good_simulated_metadata.csv',250,500,0)"
   ]
  },
  {
   "cell_type": "code",
   "execution_count": 12,
   "metadata": {},
   "outputs": [],
   "source": [
    "X_train, X_test = np.concatenate((X_train,X_train0_sims)), np.concatenate((X_test,X_test0_sims))\n",
    "y_train, y_test = np.concatenate((y_train,y_train0_sims,y_train1,y_train3)), np.concatenate((y_test,y_test0_sims))\n",
    "md_train, md_test = pd.concat([md_train,mdtrain0_sims], ignore_index=True), pd.concat([md_test,mdtest0_sims], ignore_index=True)"
   ]
  },
  {
   "cell_type": "code",
   "execution_count": 13,
   "metadata": {},
   "outputs": [
    {
     "name": "stdout",
     "output_type": "stream",
     "text": [
      "445\n",
      "0\n",
      "434\n",
      "0\n",
      "0\n",
      "0\n"
     ]
    }
   ],
   "source": [
    "print(len(md_train.loc[md_train['ACTION'] == 'Good']))\n",
    "print(len(md_train.loc[md_train['ACTION'] == 'Marginal']))\n",
    "print(len(md_train.loc[md_train['ACTION'] == 'BadSubtraction']))\n",
    "print(len(md_train.loc[md_train['ACTION'] == 'NoisyTemplate']))\n",
    "print(len(md_train.loc[md_train['ACTION'] == 'DarkSpotInTemplateCenter']))\n",
    "print(len(md_train.loc[md_train['ACTION'] == 'PsfInTemplate']))"
   ]
  },
  {
   "cell_type": "code",
   "execution_count": 14,
   "metadata": {},
   "outputs": [],
   "source": [
    "train_idx = np.arange(X_train.shape[0])\n",
    "np.random.shuffle(train_idx)\n",
    "X_train = X_train[train_idx]\n",
    "y_train = y_train[train_idx]\n",
    "md_train = md_train.iloc[train_idx].reset_index(drop=True)\n",
    "\n",
    "test_idx = np.arange(X_test.shape[0])\n",
    "np.random.shuffle(test_idx)\n",
    "X_test = X_test[test_idx]\n",
    "y_test = y_test[test_idx]\n",
    "md_test = md_test.iloc[test_idx].reset_index(drop=True)"
   ]
  },
  {
   "cell_type": "code",
   "execution_count": 15,
   "metadata": {},
   "outputs": [],
   "source": [
    "class ArtifactDataset(Dataset):\n",
    "    \"\"\"PyTorch Dataset of Artifact Images\"\"\"\n",
    "\n",
    "    def __init__(self, images, labels, metadata, transform=None):\n",
    "        self.images = images\n",
    "        self.labels = labels\n",
    "        self.transform = transform\n",
    "        self.metadata = metadata\n",
    "\n",
    "    def __len__(self):\n",
    "        return len(self.labels)\n",
    "\n",
    "    def __getitem__(self, idx):\n",
    "        if torch.is_tensor(idx):\n",
    "            idx = idx.tolist()\n",
    "\n",
    "        image = self.images[idx]\n",
    "        label = np.array(self.labels[idx])\n",
    "        objid = self.metadata.OBJID[idx]\n",
    "        \n",
    "        sample = {'image': image, 'label': label, 'objid': objid}\n",
    "\n",
    "        if self.transform:\n",
    "            sample = self.transform(sample)\n",
    "\n",
    "        return sample\n",
    "    \n",
    "class ToTensor(object):\n",
    "    \"\"\"Convert ndarrays in sample to Tensors.\"\"\"\n",
    "\n",
    "    def __call__(self, sample):\n",
    "        image_, label, objid = sample['image'], sample['label'], sample['objid']\n",
    "\n",
    "        scaled_array = (image_ - np.mean(image_,axis=(-1,-2),keepdims=True))/(10*np.std(image_,axis=(-1,-2),keepdims=True)) + 0.5\n",
    "        return {'image': torch.from_numpy(scaled_array).float(),\n",
    "                'label': torch.from_numpy(label),\n",
    "                'objid': torch.from_numpy(np.asarray(objid))}"
   ]
  },
  {
   "cell_type": "code",
   "execution_count": 16,
   "metadata": {},
   "outputs": [],
   "source": [
    "def make_datasets(X_train, y_train, X_test, y_test, md_train, md_test, batch_size=20):\n",
    "    \n",
    "    train_dataset = ArtifactDataset(X_train, y_train, md_train, transform=ToTensor())\n",
    "    test_dataset = ArtifactDataset(X_test, y_test, md_test, transform=ToTensor())\n",
    "    train_dataloader = DataLoader(train_dataset, batch_size=batch_size, shuffle=True, num_workers=4)\n",
    "    \n",
    "    return train_dataset, test_dataset, train_dataloader"
   ]
  },
  {
   "cell_type": "code",
   "execution_count": 17,
   "metadata": {},
   "outputs": [],
   "source": [
    "train_dataset, test_dataset, train_dataloader = make_datasets(X_train, y_train, X_test, y_test, md_train, md_test)"
   ]
  },
  {
   "cell_type": "code",
   "execution_count": 18,
   "metadata": {},
   "outputs": [],
   "source": [
    "train_size = 100\n",
    "validation_size = 100\n",
    "size_train = len(y_train)\n",
    "size_test = len(y_test)"
   ]
  },
  {
   "cell_type": "code",
   "execution_count": 19,
   "metadata": {},
   "outputs": [],
   "source": [
    "class CNN(nn.Module):\n",
    "    def __init__(self):\n",
    "        super(CNN, self).__init__()\n",
    "        \n",
    "        #Network Components\n",
    "        self.conv1 = nn.Conv2d(in_channels=3, \n",
    "                               out_channels=32, \n",
    "                               kernel_size=4, \n",
    "                               stride=1,\n",
    "                               padding=2)\n",
    "        \n",
    "        self.conv2 = nn.Conv2d(in_channels=32, \n",
    "                               out_channels=64,\n",
    "                               kernel_size=2, \n",
    "                               stride=1,\n",
    "                               padding=2)\n",
    "\n",
    "        self.conv3 = nn.Conv2d(in_channels=64, \n",
    "                               out_channels=128,\n",
    "                               kernel_size=2, \n",
    "                               stride=1,\n",
    "                               padding=2)\n",
    "        \n",
    "        self.dropout1 = nn.Dropout2d(0.25)\n",
    "        \n",
    "        self.dropout2 = nn.Dropout2d(0.5)\n",
    "        \n",
    "        self.fc1 = nn.Linear(in_features=107648, \n",
    "                             out_features=328)\n",
    "        \n",
    "        self.fc2 = nn.Linear(in_features=328, \n",
    "                             out_features=18)\n",
    "        \n",
    "        self.fc3 = nn.Linear(in_features=18, \n",
    "                             out_features=2)\n",
    "        \n",
    "    def forward(self, x):\n",
    "        #Network Flow\n",
    "        x = self.conv1(x)\n",
    "        x = F.relu(x)\n",
    "        x = self.conv2(x)\n",
    "        x = F.relu(x)\n",
    "        x = self.conv3(x)\n",
    "        x = F.relu(x)\n",
    "        x = F.max_pool2d(x, kernel_size=2)\n",
    "        x = self.dropout1(x)\n",
    "        x = torch.flatten(x, 1)\n",
    "        x = self.fc1(x)\n",
    "        x = F.relu(x)\n",
    "        x = self.dropout2(x)\n",
    "        x = self.fc2(x)\n",
    "        x = F.relu(x)\n",
    "        x = self.dropout2(x)\n",
    "        x = self.fc3(x)\n",
    "        output = F.log_softmax(x, dim=1)\n",
    "        return output\n",
    "    \n",
    "cnn = CNN()"
   ]
  },
  {
   "cell_type": "code",
   "execution_count": 20,
   "metadata": {},
   "outputs": [],
   "source": [
    "loss_function = nn.CrossEntropyLoss()\n",
    "learning_rate = 0.001\n",
    "optimizer = torch.optim.Adam(cnn.parameters(), lr=learning_rate)\n",
    "number_of_training_epochs = 15"
   ]
  },
  {
   "cell_type": "code",
   "execution_count": 21,
   "metadata": {},
   "outputs": [
    {
     "name": "stdout",
     "output_type": "stream",
     "text": [
      "Epoch: 1 Step: 0  | Training Accuracy: 0.53 -- Validation Accuracy: 0.56\n",
      "Epoch: 2 Step: 0  | Training Accuracy: 0.58 -- Validation Accuracy: 0.6\n",
      "Epoch: 3 Step: 0  | Training Accuracy: 0.79 -- Validation Accuracy: 0.73\n",
      "Epoch: 4 Step: 0  | Training Accuracy: 0.75 -- Validation Accuracy: 0.8\n",
      "Epoch: 5 Step: 0  | Training Accuracy: 0.79 -- Validation Accuracy: 0.8\n",
      "Epoch: 6 Step: 0  | Training Accuracy: 0.91 -- Validation Accuracy: 0.89\n",
      "Epoch: 7 Step: 0  | Training Accuracy: 0.91 -- Validation Accuracy: 0.91\n",
      "Epoch: 8 Step: 0  | Training Accuracy: 0.92 -- Validation Accuracy: 0.91\n",
      "Epoch: 9 Step: 0  | Training Accuracy: 0.89 -- Validation Accuracy: 0.88\n",
      "Epoch: 10 Step: 0  | Training Accuracy: 0.9 -- Validation Accuracy: 0.94\n",
      "Epoch: 11 Step: 0  | Training Accuracy: 0.93 -- Validation Accuracy: 0.92\n",
      "Epoch: 12 Step: 0  | Training Accuracy: 0.94 -- Validation Accuracy: 0.92\n",
      "Epoch: 13 Step: 0  | Training Accuracy: 0.91 -- Validation Accuracy: 0.9\n",
      "Epoch: 14 Step: 0  | Training Accuracy: 0.92 -- Validation Accuracy: 0.94\n",
      "Epoch: 15 Step: 0  | Training Accuracy: 0.92 -- Validation Accuracy: 0.93\n"
     ]
    }
   ],
   "source": [
    "# Append some lists as we go to track the accuracies and loss\n",
    "indices, losses, train_acc, validation_acc = [], [], [], []\n",
    "index_counter = 0\n",
    "\n",
    "\n",
    "for epoch in range(number_of_training_epochs):\n",
    "    \n",
    "    for step, batch_data in enumerate(train_dataloader):\n",
    "        \n",
    "        #Clear out all existing gradients on the loss surface to reevaluate for this step\n",
    "        optimizer.zero_grad()\n",
    "        \n",
    "        #Get the CNN's current prediction of the training data\n",
    "        output = cnn(batch_data['image'])\n",
    "        \n",
    "        #Calculate the loss by comparing the prediction to the truth\n",
    "        loss = loss_function(output, batch_data['label'])\n",
    "        \n",
    "        #Evaluate all gradients along the loss surface using back propagation\n",
    "        loss.backward()\n",
    "        \n",
    "        #Based on the gradients, take the optimal step in the weight space\n",
    "        optimizer.step()\n",
    "            \n",
    "        \n",
    "        #Every so often, let's print out the accuracy\n",
    "        if step == 0:\n",
    "            \n",
    "            #Evaluate the network's predictions\n",
    "            train_output = cnn(train_dataset[0:train_size]['image'])\n",
    "            validation_output = cnn(test_dataset[0:validation_size]['image'])\n",
    "            \n",
    "            train_predictions = torch.max(train_output, 1)[1].data.numpy()\n",
    "            validation_predictions = torch.max(validation_output, 1)[1].data.numpy()\n",
    "            \n",
    "            #Calculate accuracy\n",
    "            train_accuracy = np.sum(train_predictions == train_dataset[0:train_size]['label'].numpy()) / train_size\n",
    "            validation_accuracy = np.sum(validation_predictions == test_dataset[0:validation_size]['label'].numpy()) / validation_size\n",
    "            \n",
    "            print(\"Epoch: {0} Step: {1}  | Training Accuracy: {2} -- Validation Accuracy: {3}\".format(epoch + 1, step, train_accuracy, validation_accuracy))\n",
    "            \n",
    "            #save results to list for diagnostic plots\n",
    "            indices.append(index_counter)\n",
    "            losses.append(loss.data.numpy())\n",
    "            train_acc.append(train_accuracy)\n",
    "            validation_acc.append(validation_accuracy)\n",
    "            index_counter += 1\n",
    "            \n",
    "            "
   ]
  },
  {
   "cell_type": "code",
   "execution_count": 14,
   "metadata": {},
   "outputs": [],
   "source": [
    "X_test = np.concatenate((X_test0,images_1,X_test3,images_4,images_5,images_6))\n",
    "y_test = np.concatenate((y_test0,y_1,y_test3,y_4,y_5,y_6))\n",
    "md_test = pd.concat([mdtest0,md_1,mdtest3,md_4,md_5,md_6], ignore_index=True)"
   ]
  },
  {
   "cell_type": "code",
   "execution_count": 15,
   "metadata": {},
   "outputs": [],
   "source": [
    "test_centers = TemplateCenter(X_test, md_test)\n",
    "\n",
    "test_snr = SNR(md_test.loc[np.where(test_centers > center_thres)[0]])\n",
    "\n",
    "md_test_centers = md_test.loc[np.where(test_centers > center_thres)[0]].reset_index(drop=True)\n",
    "\n",
    "md_test_filtered = md_test_centers.loc[np.where(test_snr > snr_thres)[0]]\n",
    "\n",
    "test_remaining_indices = md_test[['OBJID']].merge(md_test_filtered, on='OBJID', how='inner', right_index=True).index\n",
    "\n",
    "X_test = X_test[test_remaining_indices]\n",
    "y_test = y_test[test_remaining_indices]\n",
    "md_test = md_test_filtered.reset_index(drop=True)\n",
    "\n",
    "X_test, y_test, md_test = CatalogMatching(X_test, y_test, md_test)"
   ]
  },
  {
   "cell_type": "code",
   "execution_count": 16,
   "metadata": {},
   "outputs": [],
   "source": [
    "test_idx = np.arange(X_test.shape[0])\n",
    "np.random.shuffle(test_idx)\n",
    "X_test = X_test[test_idx]\n",
    "y_test = y_test[test_idx]\n",
    "md_test = md_test.iloc[test_idx].reset_index(drop=True)"
   ]
  },
  {
   "cell_type": "code",
   "execution_count": 25,
   "metadata": {},
   "outputs": [],
   "source": [
    "test_dataset_full = ArtifactDataset(X_test, y_test, md_test, transform=ToTensor())"
   ]
  },
  {
   "cell_type": "code",
   "execution_count": 26,
   "metadata": {},
   "outputs": [],
   "source": [
    "validation_probs1 = torch.max(cnn(test_dataset_full[0:1000]['image']), 1)[1].data.numpy()"
   ]
  },
  {
   "cell_type": "code",
   "execution_count": 27,
   "metadata": {},
   "outputs": [],
   "source": [
    "validation_probs2 = torch.max(cnn(test_dataset_full[1000:2000]['image']), 1)[1].data.numpy()"
   ]
  },
  {
   "cell_type": "code",
   "execution_count": 28,
   "metadata": {},
   "outputs": [],
   "source": [
    "validation_probs3 = torch.max(cnn(test_dataset_full[2000:3500]['image']), 1)[1].data.numpy()"
   ]
  },
  {
   "cell_type": "code",
   "execution_count": 29,
   "metadata": {},
   "outputs": [],
   "source": [
    "validation_probs = np.concatenate((validation_probs1, validation_probs2, validation_probs3))\n",
    "md_test = pd.concat([md_test[0:1000],md_test[1000:2000],md_test[2000:3500]]).reset_index()\n",
    "\n",
    "pred_class0 = validation_probs[md_test.loc[md_test['ACTION'] == 'Good'].index]\n",
    "pred_class1 = validation_probs[md_test.loc[md_test['ACTION'] == 'Marginal'].index]\n",
    "pred_class3 = validation_probs[md_test.loc[md_test['ACTION'] == 'BadSubtraction'].index]\n",
    "pred_class4 = validation_probs[(md_test.loc[md_test['ACTION'] == 'DarkSpotInTemplateCenter'].index) | \n",
    "                                         (md_test.loc[md_test['ACTION'] == 'NoisyTemplate'].index)]\n",
    "pred_class6 = validation_probs[md_test.loc[md_test['ACTION'] == 'PsfInTemplate'].index]"
   ]
  },
  {
   "cell_type": "code",
   "execution_count": 30,
   "metadata": {},
   "outputs": [
    {
     "data": {
      "image/png": "[encoded data removed]",
      "text/plain": [
       "<Figure size 720x576 with 1 Axes>"
      ]
     },
     "metadata": {
      "needs_background": "light"
     },
     "output_type": "display_data"
    }
   ],
   "source": [
    "pred0_class0 = (pred_class0 == 0).sum()\n",
    "pred1_class0 = (pred_class0 == 1).sum()\n",
    "\n",
    "pred0_class1 = (pred_class1 == 0).sum()\n",
    "pred1_class1 = (pred_class1 == 1).sum()\n",
    "\n",
    "pred0_class3 = (pred_class3 == 0).sum()\n",
    "pred1_class3 = (pred_class3 == 1).sum()\n",
    "\n",
    "pred0_class4 = (pred_class4 == 0).sum()\n",
    "pred1_class4 = (pred_class4 == 1).sum()\n",
    "\n",
    "pred0_class6 = (pred_class6 == 0).sum()\n",
    "pred1_class6 = (pred_class6 == 1).sum()\n",
    "\n",
    "cm = np.array([[pred0_class0,pred0_class1,pred0_class3,pred0_class4,pred0_class6],\n",
    "                [pred1_class0,pred1_class1,pred1_class3,pred1_class4,pred1_class6]])\n",
    "\n",
    "classes = ['Good','Marginal','Bad Sub','Dark Spot + Noisy','Point Source']\n",
    "labels = ['Good','Bad']\n",
    "\n",
    "fig, ax = plt.subplots(1,1,figsize=(10, 8))\n",
    "\n",
    "ax.imshow(cm, cmap=plt.cm.Blues)\n",
    "ax.set_xlabel(\"Class\", fontsize=20)\n",
    "ax.set_ylabel(\"Predictions\", fontsize=20)\n",
    "ax.set_xticks(np.arange(len(classes)))\n",
    "ax.set_yticks(np.arange(len(labels)))\n",
    "ax.set_xticklabels(classes, fontsize=12)\n",
    "ax.set_yticklabels(labels, fontsize=12)\n",
    "ax.axhline(0.5, linestyle='-', color='k', linewidth='3')\n",
    "ax.axvline(0.5, linestyle='-', color='k', linewidth='3')\n",
    "\n",
    "for i in range(len(labels)):\n",
    "    for j in range(len(classes)):\n",
    "        text = ax.text(j, i, cm[i, j],\n",
    "                       ha=\"center\", va=\"center\", fontsize=12)\n",
    "\n",
    "ax.set_title('Predictions (binary) For Each Class', fontsize=22)\n",
    "fig.tight_layout()"
   ]
  },
  {
   "cell_type": "code",
   "execution_count": 31,
   "metadata": {},
   "outputs": [
    {
     "name": "stdout",
     "output_type": "stream",
     "text": [
      "375\n",
      "825\n",
      "980\n",
      "36\n",
      "11\n",
      "857\n"
     ]
    }
   ],
   "source": [
    "print(len(md_test.loc[md_test['ACTION'] == 'Good']))\n",
    "print(len(md_test.loc[md_test['ACTION'] == 'Marginal']))\n",
    "print(len(md_test.loc[md_test['ACTION'] == 'BadSubtraction']))\n",
    "print(len(md_test.loc[md_test['ACTION'] == 'NoisyTemplate']))\n",
    "print(len(md_test.loc[md_test['ACTION'] == 'DarkSpotInTemplateCenter']))\n",
    "print(len(md_test.loc[md_test['ACTION'] == 'PsfInTemplate']))"
   ]
  },
  {
   "cell_type": "code",
   "execution_count": 32,
   "metadata": {},
   "outputs": [
    {
     "data": {
      "image/png": "[encoded data removed]",
      "text/plain": [
       "<Figure size 720x576 with 1 Axes>"
      ]
     },
     "metadata": {
      "needs_background": "light"
     },
     "output_type": "display_data"
    }
   ],
   "source": [
    "pred0_class0 = (pred_class0 == 0).sum()\n",
    "pred1_class0 = (pred_class0 == 1).sum()\n",
    "\n",
    "pred0_class1 = (pred_class1 == 0).sum()\n",
    "pred1_class1 = (pred_class1 == 1).sum()\n",
    "\n",
    "pred0_class3 = (pred_class3 == 0).sum()\n",
    "pred1_class3 = (pred_class3 == 1).sum()\n",
    "\n",
    "pred0_class4 = (pred_class4 == 0).sum()\n",
    "pred1_class4 = (pred_class4 == 1).sum()\n",
    "\n",
    "pred0_class6 = (pred_class6 == 0).sum()\n",
    "pred1_class6 = (pred_class6 == 1).sum()\n",
    "\n",
    "cm = np.array([[pred0_class0,pred0_class1,pred0_class3,pred0_class4,pred0_class6],\n",
    "                [pred1_class0,pred1_class1,pred1_class3,pred1_class4,pred1_class6]])\n",
    "\n",
    "classes = ['Good','Marginal','Bad Sub','Dark Spot + Noisy','Point Source']\n",
    "labels = ['Good','Bad']\n",
    "\n",
    "fig, ax = plt.subplots(1,1,figsize=(10, 8))\n",
    "\n",
    "ax.imshow(cm, cmap=plt.cm.Blues)\n",
    "ax.set_xlabel(\"Class\", fontsize=20)\n",
    "ax.set_ylabel(\"Predictions\", fontsize=20)\n",
    "ax.set_xticks(np.arange(len(classes)))\n",
    "ax.set_yticks(np.arange(len(labels)))\n",
    "ax.set_xticklabels(classes, fontsize=12)\n",
    "ax.set_yticklabels(labels, fontsize=12)\n",
    "ax.axhline(0.5, linestyle='-', color='k', linewidth='3')\n",
    "ax.axvline(0.5, linestyle='-', color='k', linewidth='3')\n",
    "\n",
    "for i in range(len(labels)):\n",
    "    for j in range(len(classes)):\n",
    "        text = ax.text(j, i, cm[i, j],\n",
    "                       ha=\"center\", va=\"center\", fontsize=12)\n",
    "\n",
    "ax.set_title('Predictions (binary) For Each Class', fontsize=22)\n",
    "fig.tight_layout()"
   ]
  },
  {
   "cell_type": "code",
   "execution_count": 31,
   "metadata": {},
   "outputs": [],
   "source": [
    "validation_probs1 = cnn(test_dataset_full[0:1000]['image']).data.numpy()"
   ]
  },
  {
   "cell_type": "code",
   "execution_count": 32,
   "metadata": {},
   "outputs": [],
   "source": [
    "validation_probs2 = cnn(test_dataset_full[1000:2000]['image']).data.numpy()"
   ]
  },
  {
   "cell_type": "code",
   "execution_count": 33,
   "metadata": {},
   "outputs": [],
   "source": [
    "validation_probs3 = cnn(test_dataset_full[2000:3500]['image']).data.numpy()"
   ]
  },
  {
   "cell_type": "code",
   "execution_count": 34,
   "metadata": {},
   "outputs": [],
   "source": [
    "validation_probs = np.concatenate((validation_probs1, validation_probs2, validation_probs3))\n",
    "md_test = pd.concat([md_test[0:1000],md_test[1000:2000],md_test[2000:3500]]).reset_index(drop=True)\n",
    "\n",
    "validation_probs -= validation_probs.min()\n",
    "validation_probs /= validation_probs.max()\n",
    "validation_probs /= np.sum(validation_probs, axis=1)[:,np.newaxis]"
   ]
  },
  {
   "cell_type": "code",
   "execution_count": 35,
   "metadata": {},
   "outputs": [
    {
     "data": {
      "image/png": "[encoded data removed]",
      "text/plain": [
       "<Figure size 864x576 with 2 Axes>"
      ]
     },
     "metadata": {
      "needs_background": "light"
     },
     "output_type": "display_data"
    },
    {
     "name": "stdout",
     "output_type": "stream",
     "text": [
      "0.5027928\n"
     ]
    }
   ],
   "source": [
    "from sklearn.metrics import roc_curve, roc_auc_score\n",
    "from sklearn.preprocessing import MinMaxScaler\n",
    "from sklearn.metrics import precision_recall_curve\n",
    "\n",
    "precision, recall, f1_thresholds = precision_recall_curve(test_dataset_full[0:len(test_dataset_full)]['label'], validation_probs[:,1])\n",
    "f1_scores = 2*recall*precision/(recall+precision)\n",
    "operating_threshold = f1_thresholds[np.argmax(f1_scores)]\n",
    "\n",
    "cm = plt.get_cmap('viridis')\n",
    "lw = 2\n",
    "\n",
    "plt.figure(figsize=(12,8))\n",
    "\n",
    "fpr, tpr, thresholds = roc_curve(test_dataset_full[0:len(test_dataset_full)]['label'], validation_probs[:,1])\n",
    "\n",
    "scaler = MinMaxScaler()\n",
    "scaled_thresholds = scaler.fit_transform(np.where(thresholds < 0.3, 0.3, np.where(thresholds > 0.58, 0.58, thresholds)).reshape(-1,1)).reshape(len(thresholds),)\n",
    "\n",
    "roc_auc = roc_auc_score(test_dataset_full[0:len(test_dataset_full)]['label'], validation_probs[:,1])\n",
    "garb = plt.scatter(fpr + 80, tpr + 80, c=scaled_thresholds)\n",
    "plt.plot([0.0,0.0,1.0], [0.0,1.0,1.0], label='Perfect Performance (AUC = 1.0)', ls=':', zorder=10, c='black')\n",
    "for i in range(len(fpr) -1):\n",
    "    if i > len(fpr) - 3:\n",
    "        plt.plot([fpr[i], fpr[i+1]], [tpr[i], tpr[i+1]], c=cm(scaled_thresholds[i]), lw=2, zorder=20, label='Network 1 (AUC = %.5f)' %roc_auc)\n",
    "    else:\n",
    "        plt.plot([fpr[i], fpr[i+1]], [tpr[i], tpr[i+1]], c=cm(scaled_thresholds[i]), lw=2, zorder=20, label=None)\n",
    "plt.plot([0, 1], [0, 1], lw=lw, linestyle='--', label='Random Guessing',c='black')\n",
    "cbar = plt.colorbar(garb)\n",
    "cbar.set_label('Scaled Network 1 Probability', size=16)\n",
    "plt.scatter(fpr[np.argmin(np.abs(thresholds - operating_threshold))], tpr[np.argmin(np.abs(thresholds - operating_threshold))],marker='*', s=80, c='black', zorder=200, label='Operating Threshold')\n",
    "plt.xlim(-0.05, 1.05)\n",
    "plt.ylim(-0.05, 1.05)\n",
    "plt.xticks(fontsize=14)\n",
    "plt.yticks(fontsize=14)\n",
    "plt.xlabel('False Positive Rate',fontsize=16)\n",
    "plt.ylabel('True Positive Rate',fontsize=16)\n",
    "plt.legend(loc=\"lower right\", fontsize=14)\n",
    "plt.show()\n",
    "print(operating_threshold)"
   ]
  },
  {
   "cell_type": "code",
   "execution_count": 57,
   "metadata": {},
   "outputs": [],
   "source": [
    "operating_threshold = 0.50003123"
   ]
  },
  {
   "cell_type": "code",
   "execution_count": 58,
   "metadata": {},
   "outputs": [],
   "source": [
    "validation_probs = np.concatenate((validation_probs1, validation_probs2, validation_probs3))\n",
    "md_test = pd.concat([md_test[0:1000],md_test[1000:2000],md_test[2000:3500]]).reset_index(drop=True)\n",
    "\n",
    "validation_probs -= validation_probs.min()\n",
    "validation_probs /= validation_probs.max()\n",
    "validation_probs /= np.sum(validation_probs, axis=1)[:,np.newaxis]\n",
    "\n",
    "pred_class0 = validation_probs[md_test.loc[md_test['ACTION'] == 'Good'].index]\n",
    "pred_class1 = validation_probs[md_test.loc[md_test['ACTION'] == 'Marginal'].index]\n",
    "pred_class3 = validation_probs[md_test.loc[md_test['ACTION'] == 'BadSubtraction'].index]\n",
    "pred_class4 = validation_probs[(md_test.loc[md_test['ACTION'] == 'DarkSpotInTemplateCenter'].index) | \n",
    "                                         (md_test.loc[md_test['ACTION'] == 'NoisyTemplate'].index)]\n",
    "pred_class6 = validation_probs[md_test.loc[md_test['ACTION'] == 'PsfInTemplate'].index]"
   ]
  },
  {
   "cell_type": "code",
   "execution_count": 86,
   "metadata": {},
   "outputs": [
    {
     "data": {
      "image/png": "[encoded data removed]",
      "text/plain": [
       "<Figure size 720x576 with 1 Axes>"
      ]
     },
     "metadata": {
      "needs_background": "light"
     },
     "output_type": "display_data"
    }
   ],
   "source": [
    "pred0_class0 = (pred_class0[:,1] < operating_threshold).sum()\n",
    "pred1_class0 = (pred_class0[:,1] > operating_threshold).sum()\n",
    "\n",
    "pred0_class0_per = pred0_class0/(pred0_class0 + pred1_class0)\n",
    "pred1_class0_per = pred1_class0/(pred0_class0 + pred1_class0)\n",
    "\n",
    "pred0_class1 = (pred_class1[:,1] < operating_threshold).sum()\n",
    "pred1_class1 = (pred_class1[:,1] > operating_threshold).sum()\n",
    "\n",
    "pred0_class1_per = pred0_class1/(pred0_class1 + pred1_class1)\n",
    "pred1_class1_per = pred1_class1/(pred0_class1 + pred1_class1)\n",
    "\n",
    "pred0_class3 = (pred_class3[:,1] < operating_threshold).sum()\n",
    "pred1_class3 = (pred_class3[:,1] > operating_threshold).sum()\n",
    "\n",
    "pred0_class3_per = pred0_class3/(pred0_class3 + pred1_class3)\n",
    "pred1_class3_per = pred1_class3/(pred0_class3 + pred1_class3)\n",
    "\n",
    "pred0_class4 = (pred_class4[:,1] < operating_threshold).sum()\n",
    "pred1_class4 = (pred_class4[:,1] > operating_threshold).sum()\n",
    "\n",
    "pred0_class4_per = pred0_class4/(pred0_class4 + pred1_class4)\n",
    "pred1_class4_per = pred1_class4/(pred0_class4 + pred1_class4)\n",
    "\n",
    "pred0_class6 = (pred_class6[:,1] < operating_threshold).sum()\n",
    "pred1_class6 = (pred_class6[:,1] > operating_threshold).sum()\n",
    "\n",
    "pred0_class6_per = pred0_class6/(pred0_class6 + pred1_class6)\n",
    "pred1_class6_per = pred1_class6/(pred0_class6 + pred1_class6)\n",
    "\n",
    "cm = np.array([[pred0_class0_per,pred0_class1_per,pred0_class3_per,pred0_class4_per,pred0_class6_per],\n",
    "                [pred1_class0_per,pred1_class1_per,pred1_class3_per,pred1_class4_per,pred1_class6_per]])\n",
    "\n",
    "classes = ['Good','Marginal','Bad Sub','Dark Spot + Noisy','Point Source']\n",
    "labels = ['Good','Bad']\n",
    "\n",
    "fig, ax = plt.subplots(1,1,figsize=(10, 8))\n",
    "\n",
    "ax.imshow(cm, cmap=plt.cm.Blues)\n",
    "ax.set_xlabel(\"Class\", fontsize=20)\n",
    "ax.set_ylabel(\"Predictions\", fontsize=20)\n",
    "ax.set_xticks(np.arange(len(classes)))\n",
    "ax.set_yticks(np.arange(len(labels)))\n",
    "ax.set_xticklabels(classes, fontsize=12)\n",
    "ax.set_yticklabels(labels, fontsize=12)\n",
    "ax.axhline(0.5, linestyle='-', color='k', linewidth='3')\n",
    "ax.axvline(0.5, linestyle='-', color='k', linewidth='3')\n",
    "\n",
    "for i in range(len(labels)):\n",
    "    for j in range(len(classes)):\n",
    "        text = ax.text(j, i, format(cm[i, j],'.3f'),\n",
    "                       ha=\"center\", va=\"center\", fontsize=12,\n",
    "                       color=\"white\" if cm[i, j] > 0.5 else \"black\")\n",
    "\n",
    "ax.set_title('Predictions (binary) For Each Class', fontsize=22)\n",
    "fig.tight_layout()"
   ]
  },
  {
   "cell_type": "code",
   "execution_count": 87,
   "metadata": {},
   "outputs": [],
   "source": [
    "X_train0_sims, X_test0_sims, y_train0_sims, y_test0_sims, mdtrain0_sims, mdtest0_sims = TrainTest('good_simulated_images.h5','good_simulated_metadata.csv',1000,2000,0)"
   ]
  },
  {
   "cell_type": "code",
   "execution_count": 88,
   "metadata": {},
   "outputs": [],
   "source": [
    "test_dataset_full_sims = ArtifactDataset(X_test0_sims, y_test0_sims, mdtest0_sims, transform=ToTensor())"
   ]
  },
  {
   "cell_type": "code",
   "execution_count": 89,
   "metadata": {},
   "outputs": [],
   "source": [
    "validation_probs_sims = torch.max(cnn(test_dataset_full_sims[0:len(test_dataset_full_sims)]['image']), 1)[1].data.numpy()"
   ]
  },
  {
   "cell_type": "code",
   "execution_count": 90,
   "metadata": {},
   "outputs": [],
   "source": [
    "passed_sims = mdtest0_sims.loc[mdtest0_sims['ACTION'] == 'Good'].reset_index().index[np.where(validation_probs_sims[mdtest0_sims.loc[mdtest0_sims['ACTION'] == 'Good'].reset_index().index] == 0)[0]]\n",
    "passed_sims_mds = mdtest0_sims"
   ]
  },
  {
   "cell_type": "code",
   "execution_count": 91,
   "metadata": {},
   "outputs": [],
   "source": [
    "hf1 = h5py.File('passed/Class_sims_images.h5', 'w')\n",
    "hf1.create_dataset('passed_sims', data=X_test0_sims)\n",
    "hf1.close()"
   ]
  },
  {
   "cell_type": "code",
   "execution_count": 92,
   "metadata": {},
   "outputs": [],
   "source": [
    "mdtest0_sims.to_csv('passed/Class_sims_metadata.csv')"
   ]
  },
  {
   "cell_type": "code",
   "execution_count": 37,
   "metadata": {},
   "outputs": [],
   "source": [
    "#torch.save(cnn.state_dict(), '/home/ashandonay/cosmology/model1.pt')"
   ]
  },
  {
   "cell_type": "code",
   "execution_count": 100,
   "metadata": {},
   "outputs": [],
   "source": [
    "passed_good_index = md_test.loc[md_test['ACTION'] == 'Good'].index[np.where(validation_probs[md_test.loc[md_test['ACTION'] == 'Good'].index][:,1] < operating_threshold)[0]]\n",
    "\n",
    "passed_good = X_test[passed_good_index]\n",
    "passed_good_mds = md_test.loc[passed_good_index].reset_index(drop=True)"
   ]
  },
  {
   "cell_type": "code",
   "execution_count": 102,
   "metadata": {},
   "outputs": [],
   "source": [
    "passed_marginal_index = md_test.loc[md_test['ACTION'] == 'Marginal'].index[np.where(validation_probs[md_test.loc[md_test['ACTION'] == 'Marginal'].index][:,1] < operating_threshold)[0]]\n",
    "\n",
    "passed_marginal = X_test[passed_marginal_index]\n",
    "passed_marginal_mds = md_test.loc[passed_marginal_index].reset_index(drop=True)"
   ]
  },
  {
   "cell_type": "code",
   "execution_count": 104,
   "metadata": {},
   "outputs": [],
   "source": [
    "passed_badsub_index = md_test.loc[md_test['ACTION'] == 'BadSubtraction'].index[np.where(validation_probs[md_test.loc[md_test['ACTION'] == 'BadSubtraction'].index][:,1] < operating_threshold)[0]]\n",
    "\n",
    "passed_badsub = X_test[passed_badsub_index]\n",
    "passed_badsub_mds = md_test.loc[passed_badsub_index].reset_index(drop=True)"
   ]
  },
  {
   "cell_type": "code",
   "execution_count": 106,
   "metadata": {},
   "outputs": [],
   "source": [
    "passed_noisy_index = md_test.loc[(md_test.loc[md_test['ACTION'] == 'DarkSpotInTemplateCenter'].index) | \n",
    "                                         (md_test.loc[md_test['ACTION'] == 'NoisyTemplate'].index)].index[np.where(validation_probs[(md_test.loc[md_test['ACTION'] == 'DarkSpotInTemplateCenter'].index) | \n",
    "                                         (md_test.loc[md_test['ACTION'] == 'NoisyTemplate'].index)][:,1] < operating_threshold)[0]]\n",
    "\n",
    "passed_noisy = X_test[passed_noisy_index]\n",
    "passed_noisy_mds = md_test.loc[passed_noisy_index].reset_index(drop=True)"
   ]
  },
  {
   "cell_type": "code",
   "execution_count": 108,
   "metadata": {},
   "outputs": [],
   "source": [
    "passed_point_index = md_test.loc[md_test['ACTION'] == 'PsfInTemplate'].index[np.where(validation_probs[md_test.loc[md_test['ACTION'] == 'PsfInTemplate'].index][:,1] < operating_threshold)[0]]\n",
    "\n",
    "passed_point = X_test[passed_point_index]\n",
    "passed_point_mds = md_test.loc[passed_point_index].reset_index(drop=True)"
   ]
  },
  {
   "cell_type": "code",
   "execution_count": 110,
   "metadata": {},
   "outputs": [],
   "source": [
    "hf1 = h5py.File('passed/Class_0_images.h5', 'w')\n",
    "hf1.create_dataset('passed_good', data=passed_good)\n",
    "hf1.close()"
   ]
  },
  {
   "cell_type": "code",
   "execution_count": 111,
   "metadata": {},
   "outputs": [],
   "source": [
    "hf2 = h5py.File('passed/Class_1_images.h5', 'w')\n",
    "hf2.create_dataset('passed_marginal', data=passed_marginal)\n",
    "hf2.close()"
   ]
  },
  {
   "cell_type": "code",
   "execution_count": 112,
   "metadata": {},
   "outputs": [],
   "source": [
    "hf3 = h5py.File('passed/Class_3_images.h5', 'w')\n",
    "hf3.create_dataset('passed_badsub', data=passed_badsub)\n",
    "hf3.close()"
   ]
  },
  {
   "cell_type": "code",
   "execution_count": 113,
   "metadata": {},
   "outputs": [],
   "source": [
    "hf4 = h5py.File('passed/Class_4_images.h5', 'w')\n",
    "hf4.create_dataset('passed_noisy', data=passed_noisy)\n",
    "hf4.close()"
   ]
  },
  {
   "cell_type": "code",
   "execution_count": 114,
   "metadata": {},
   "outputs": [],
   "source": [
    "hf6 = h5py.File('passed/Class_6_images.h5', 'w')\n",
    "hf6.create_dataset('passed_point', data=passed_point)\n",
    "hf6.close()"
   ]
  },
  {
   "cell_type": "code",
   "execution_count": 115,
   "metadata": {},
   "outputs": [],
   "source": [
    "passed_good_mds.to_csv('passed/Class_0_metadata.csv')\n",
    "passed_marginal_mds.to_csv('passed/Class_1_metadata.csv')\n",
    "passed_badsub_mds.to_csv('passed/Class_3_metadata.csv')\n",
    "passed_noisy_mds.to_csv('passed/Class_4_metadata.csv')\n",
    "passed_point_mds.to_csv('passed/Class_6_metadata.csv')"
   ]
  },
  {
   "cell_type": "code",
   "execution_count": null,
   "metadata": {},
   "outputs": [],
   "source": []
  }
 ],
 "metadata": {
  "kernelspec": {
   "display_name": "Python 3",
   "language": "python",
   "name": "python3"
  },
  "language_info": {
   "codemirror_mode": {
    "name": "ipython",
    "version": 3
   },
   "file_extension": ".py",
   "mimetype": "text/x-python",
   "name": "python",
   "nbconvert_exporter": "python",
   "pygments_lexer": "ipython3",
   "version": "3.7.6"
  }
 },
 "nbformat": 4,
 "nbformat_minor": 4
}
